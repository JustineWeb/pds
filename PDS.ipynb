{
 "cells": [
  {
   "cell_type": "markdown",
   "metadata": {},
   "source": [
    "# MY NOTEBOOK"
   ]
  },
  {
   "cell_type": "markdown",
   "metadata": {},
   "source": [
    "## CONFIG"
   ]
  },
  {
   "cell_type": "code",
   "execution_count": 1,
   "metadata": {},
   "outputs": [],
   "source": [
    "%load_ext autoreload\n",
    "%autoreload"
   ]
  },
  {
   "cell_type": "markdown",
   "metadata": {},
   "source": [
    "### Imports"
   ]
  },
  {
   "cell_type": "code",
   "execution_count": 2,
   "metadata": {},
   "outputs": [],
   "source": [
    "import os\n",
    "import fnmatch\n",
    "import re\n",
    "import random\n",
    "import time\n",
    "import sys\n",
    "import warnings\n",
    "\n",
    "import librosa\n",
    "import tensorflow as tf\n",
    "\n",
    "import pandas as pd\n",
    "import numpy as np\n",
    "from matplotlib import pyplot as plt \n",
    "\n",
    "import itertools\n",
    "\n",
    "#import progressbar\n",
    "from tqdm import tqdm_notebook as tqdm\n",
    "from time import sleep\n",
    "\n",
    "from models import *"
   ]
  },
  {
   "cell_type": "markdown",
   "metadata": {},
   "source": [
    "## Constants"
   ]
  },
  {
   "cell_type": "markdown",
   "metadata": {},
   "source": [
    "### Local Machine"
   ]
  },
  {
   "cell_type": "code",
   "execution_count": 3,
   "metadata": {},
   "outputs": [],
   "source": [
    "MTT_DIR = \"../MTT/\"\n",
    "DATA_DIRECTORY = MTT_DIR + \"dataset/\"\n",
    "WAV_DIRECTORY = MTT_DIR + \"wav-dataset/\"\n",
    "\n",
    "# CSV containing song details (title, artist, id, mp3_path,...)\n",
    "CLIP_INFO_FINAL = \"clip_info_final.csv\"\n",
    "# CSV containg the labels (clip_id, labels, mp3_path)\n",
    "ANNOTATIONS_FINAL = \"annotations_final.csv\"\n",
    "# CSV : what is it useful for ?\n",
    "COMPARISONS_FINAL = \"comparisons_final.csv\"\n",
    "LABELS_FILE = MTT_DIR + ANNOTATIONS_FINAL\n",
    "\n",
    "SUB_DIRS = \"0123456789abcdef\"\n",
    "\n",
    "LOGDIR = \"checkpoints/\"\n",
    "\n",
    "AUDIO1_path = \"../MTT/mtt_data_mp3.zip/0/american_bach_soloists-j_s__bach_\\\n",
    "_transcriptions_of_italian_music-02-concerto_in_a_minor_for_four_harpsichords\\\n",
    "_bwv_1065_ii_largo-88-117.mp3\""
   ]
  },
  {
   "cell_type": "markdown",
   "metadata": {},
   "source": [
    "### LTS2 Server"
   ]
  },
  {
   "cell_type": "markdown",
   "metadata": {},
   "source": [
    "This cell defines all the needed data paths, when running on LTS2 server.\n",
    "Don't run this cell if you are not running the jupyter notebook on the LTS2 server ! (will overwrite the variables defined on the cell above).\n",
    "\n",
    "You can either create a cell with your own paths, or modify the cell above with your custom paths."
   ]
  },
  {
   "cell_type": "code",
   "execution_count": 4,
   "metadata": {},
   "outputs": [],
   "source": [
    "MTT_DIR = \"/mnt/scratch/students/jjgweber-MagnaTagATune/\"\n",
    "DATA_DIRECTORY = MTT_DIR + \"dataset/\"\n",
    "WAV_DIRECTORY = MTT_DIR + \"wav-dataset/\"\n",
    "\n",
    "# CSV containg the labels (clip_id, labels, mp3_path)\n",
    "ANNOTATIONS_FINAL = \"annotations_final.csv\"\n",
    "\n",
    "LABELS_FILE = MTT_DIR + ANNOTATIONS_FINAL\n",
    "\n",
    "# need to create this directory on the server !!\n",
    "LOGDIR = \"checkpoints/\"\n",
    "\n",
    "SUB_DIRS = \"0123456789abcdef\""
   ]
  },
  {
   "cell_type": "markdown",
   "metadata": {},
   "source": [
    "### Data"
   ]
  },
  {
   "cell_type": "code",
   "execution_count": 5,
   "metadata": {},
   "outputs": [],
   "source": [
    "FILE_NB = 25880 #25863\n",
    "FILE_LENGTH = 465984\n",
    "# 465984 = 2 × 2 × 2 × 2 × 2 × 2 × 3 × 3 × 809\n",
    "# useful for batches > for now divide by 9 (instead of 10)\n",
    "\n",
    "BATCH_NB = 9\n",
    "BATCH_SIZE = int(FILE_LENGTH/BATCH_NB)\n",
    "SAMPLE_SIZE = 0\n",
    "SAMPLE_RATE = 16000\n",
    "RECEPTIVE_FIELD = 0\n",
    "\n",
    "TRAIN_DIR = \"0123456789abcde\"\n",
    "TEST_DIR =\"f\"\n",
    "\n",
    "BASIC_CONFIG ={'numOutputNeurons':500}\n",
    "LEARNING_RATE = 0.001"
   ]
  },
  {
   "cell_type": "markdown",
   "metadata": {},
   "source": [
    "### Mutable parameters"
   ]
  },
  {
   "cell_type": "code",
   "execution_count": 7,
   "metadata": {},
   "outputs": [],
   "source": [
    "# Variables which are often modified to test the algorithm\n",
    "NB_SONGS = 20\n",
    "EPOCHS = 50 # check in paper\n",
    "LABELS_NAME = ['guitar', 'techno']\n",
    "NB_LABELS = len(LABELS_NAME)"
   ]
  },
  {
   "cell_type": "markdown",
   "metadata": {},
   "source": [
    "## Loading tool functions"
   ]
  },
  {
   "cell_type": "code",
   "execution_count": 8,
   "metadata": {},
   "outputs": [],
   "source": [
    "def load_labels(labels_file_name):\n",
    "    pd.read_csv(labels_file_name)\n",
    "\n",
    "def randomize_files(files):\n",
    "    for file in files:\n",
    "        file_index = random.randint(0, (len(files) - 1))\n",
    "        yield files[file_index]\n",
    "\n",
    "\n",
    "# ATTENTION : in the current configuration, everytime this function is called it goes through \n",
    "# all the sub-directories even if the sample is set to 6\n",
    "# it only prunes the output at the end\n",
    "# > there could be a more efficient way for doing this\n",
    "# TODO later\n",
    "def find_files(directory, pattern='*.mp3', sample=None, sub_dir=None):\n",
    "    '''Recursively finds all files matching the pattern.'''\n",
    "    # subdir sould be a string, for example \"abc03\", \n",
    "    # meaning we take data from directories a,b,c,0 and 3\n",
    "    \n",
    "    files = []\n",
    "    directories = []\n",
    "    \n",
    "    # TODO : add lines to check format of input\n",
    "    # TODO : try/except ?\n",
    "    \n",
    "    if sub_dir!=None :\n",
    "        for c in sub_dir :\n",
    "            directories.append(directory+c+\"/\")\n",
    "    else :\n",
    "        directories.append(directory)\n",
    "    \n",
    "    for path in directories :\n",
    "        for root, dirnames, filenames in os.walk(path):\n",
    "            for filename in fnmatch.filter(filenames, pattern):\n",
    "                files.append(os.path.join(root, filename))\n",
    "\n",
    "    if sample!=None :\n",
    "        try:\n",
    "            return files[:sample]\n",
    "        except TypeError:\n",
    "            print(\"Argument sample should be either None, or an integer :\\\n",
    "             the number of first n samples to take.\")\n",
    "    else :\n",
    "        return files"
   ]
  },
  {
   "cell_type": "markdown",
   "metadata": {},
   "source": [
    "## Prediction labels"
   ]
  },
  {
   "cell_type": "markdown",
   "metadata": {},
   "source": [
    "### Load and clean"
   ]
  },
  {
   "cell_type": "code",
   "execution_count": 9,
   "metadata": {
    "scrolled": true
   },
   "outputs": [
    {
     "name": "stderr",
     "output_type": "stream",
     "text": [
      "/home/jjgweber/semester_project/myenv/lib/python3.5/site-packages/ipykernel_launcher.py:2: ParserWarning: Falling back to the 'python' engine because the 'c' engine does not support regex separators (separators > 1 char and different from '\\s+' are interpreted as regex); you can avoid this warning by specifying engine='python'.\n",
      "  \n"
     ]
    },
    {
     "name": "stdout",
     "output_type": "stream",
     "text": [
      "Duration : 3.65\n"
     ]
    }
   ],
   "source": [
    "start = time.time()\n",
    "labels = pd.read_csv(LABELS_FILE, sep = '\"\\t\"')\n",
    "end = time.time()\n",
    "print(\"Duration : {:.3}\".format(end-start))"
   ]
  },
  {
   "cell_type": "code",
   "execution_count": 10,
   "metadata": {},
   "outputs": [],
   "source": [
    "# Prepare header to put back in the end\n",
    "# remove quotes and take all columns except the first one\n",
    "header = list(map(lambda x : x.replace('\"', ''), labels))[1:]\n",
    "# add back the first column, separated in two\n",
    "header = ['clip_id', 'no_voice']+header\n",
    "# create dictionary\n",
    "header = dict(enumerate(header))"
   ]
  },
  {
   "cell_type": "code",
   "execution_count": 11,
   "metadata": {},
   "outputs": [
    {
     "data": {
      "text/html": [
       "<div>\n",
       "<style scoped>\n",
       "    .dataframe tbody tr th:only-of-type {\n",
       "        vertical-align: middle;\n",
       "    }\n",
       "\n",
       "    .dataframe tbody tr th {\n",
       "        vertical-align: top;\n",
       "    }\n",
       "\n",
       "    .dataframe thead th {\n",
       "        text-align: right;\n",
       "    }\n",
       "</style>\n",
       "<table border=\"1\" class=\"dataframe\">\n",
       "  <thead>\n",
       "    <tr style=\"text-align: right;\">\n",
       "      <th></th>\n",
       "      <th>clip_id</th>\n",
       "      <th>no_voice</th>\n",
       "      <th>singer</th>\n",
       "      <th>duet</th>\n",
       "      <th>plucking</th>\n",
       "      <th>hard rock</th>\n",
       "      <th>world</th>\n",
       "      <th>bongos</th>\n",
       "      <th>harpsichord</th>\n",
       "      <th>female singing</th>\n",
       "      <th>...</th>\n",
       "      <th>rap</th>\n",
       "      <th>metal</th>\n",
       "      <th>hip hop</th>\n",
       "      <th>quick</th>\n",
       "      <th>water</th>\n",
       "      <th>baroque</th>\n",
       "      <th>women</th>\n",
       "      <th>fiddle</th>\n",
       "      <th>english</th>\n",
       "      <th>mp3_path</th>\n",
       "    </tr>\n",
       "  </thead>\n",
       "  <tbody>\n",
       "    <tr>\n",
       "      <th>0</th>\n",
       "      <td>2</td>\n",
       "      <td>0</td>\n",
       "      <td>0</td>\n",
       "      <td>0</td>\n",
       "      <td>0</td>\n",
       "      <td>0</td>\n",
       "      <td>0</td>\n",
       "      <td>0</td>\n",
       "      <td>0</td>\n",
       "      <td>0</td>\n",
       "      <td>...</td>\n",
       "      <td>0</td>\n",
       "      <td>0</td>\n",
       "      <td>0</td>\n",
       "      <td>0</td>\n",
       "      <td>0</td>\n",
       "      <td>0</td>\n",
       "      <td>0</td>\n",
       "      <td>0</td>\n",
       "      <td>0</td>\n",
       "      <td>f/american_bach_soloists-j_s__bach_solo_cantat...</td>\n",
       "    </tr>\n",
       "    <tr>\n",
       "      <th>1</th>\n",
       "      <td>6</td>\n",
       "      <td>0</td>\n",
       "      <td>0</td>\n",
       "      <td>0</td>\n",
       "      <td>0</td>\n",
       "      <td>0</td>\n",
       "      <td>0</td>\n",
       "      <td>0</td>\n",
       "      <td>0</td>\n",
       "      <td>0</td>\n",
       "      <td>...</td>\n",
       "      <td>0</td>\n",
       "      <td>0</td>\n",
       "      <td>0</td>\n",
       "      <td>0</td>\n",
       "      <td>0</td>\n",
       "      <td>1</td>\n",
       "      <td>0</td>\n",
       "      <td>0</td>\n",
       "      <td>0</td>\n",
       "      <td>f/american_bach_soloists-j_s__bach_solo_cantat...</td>\n",
       "    </tr>\n",
       "    <tr>\n",
       "      <th>2</th>\n",
       "      <td>10</td>\n",
       "      <td>0</td>\n",
       "      <td>0</td>\n",
       "      <td>0</td>\n",
       "      <td>0</td>\n",
       "      <td>0</td>\n",
       "      <td>0</td>\n",
       "      <td>0</td>\n",
       "      <td>0</td>\n",
       "      <td>0</td>\n",
       "      <td>...</td>\n",
       "      <td>0</td>\n",
       "      <td>0</td>\n",
       "      <td>0</td>\n",
       "      <td>0</td>\n",
       "      <td>0</td>\n",
       "      <td>0</td>\n",
       "      <td>0</td>\n",
       "      <td>0</td>\n",
       "      <td>0</td>\n",
       "      <td>f/american_bach_soloists-j_s__bach_solo_cantat...</td>\n",
       "    </tr>\n",
       "    <tr>\n",
       "      <th>3</th>\n",
       "      <td>11</td>\n",
       "      <td>0</td>\n",
       "      <td>0</td>\n",
       "      <td>0</td>\n",
       "      <td>0</td>\n",
       "      <td>0</td>\n",
       "      <td>0</td>\n",
       "      <td>0</td>\n",
       "      <td>0</td>\n",
       "      <td>0</td>\n",
       "      <td>...</td>\n",
       "      <td>0</td>\n",
       "      <td>0</td>\n",
       "      <td>0</td>\n",
       "      <td>0</td>\n",
       "      <td>0</td>\n",
       "      <td>0</td>\n",
       "      <td>0</td>\n",
       "      <td>0</td>\n",
       "      <td>0</td>\n",
       "      <td>f/american_bach_soloists-j_s__bach_solo_cantat...</td>\n",
       "    </tr>\n",
       "    <tr>\n",
       "      <th>4</th>\n",
       "      <td>12</td>\n",
       "      <td>0</td>\n",
       "      <td>0</td>\n",
       "      <td>0</td>\n",
       "      <td>0</td>\n",
       "      <td>0</td>\n",
       "      <td>0</td>\n",
       "      <td>0</td>\n",
       "      <td>0</td>\n",
       "      <td>0</td>\n",
       "      <td>...</td>\n",
       "      <td>0</td>\n",
       "      <td>0</td>\n",
       "      <td>0</td>\n",
       "      <td>0</td>\n",
       "      <td>0</td>\n",
       "      <td>0</td>\n",
       "      <td>0</td>\n",
       "      <td>0</td>\n",
       "      <td>0</td>\n",
       "      <td>f/american_bach_soloists-j_s__bach_solo_cantat...</td>\n",
       "    </tr>\n",
       "  </tbody>\n",
       "</table>\n",
       "<p>5 rows × 190 columns</p>\n",
       "</div>"
      ],
      "text/plain": [
       "  clip_id no_voice singer duet plucking hard rock world bongos harpsichord  \\\n",
       "0       2        0      0    0        0         0     0      0           0   \n",
       "1       6        0      0    0        0         0     0      0           0   \n",
       "2      10        0      0    0        0         0     0      0           0   \n",
       "3      11        0      0    0        0         0     0      0           0   \n",
       "4      12        0      0    0        0         0     0      0           0   \n",
       "\n",
       "  female singing  ... rap metal hip hop quick water baroque women fiddle  \\\n",
       "0              0  ...   0     0       0     0     0       0     0      0   \n",
       "1              0  ...   0     0       0     0     0       1     0      0   \n",
       "2              0  ...   0     0       0     0     0       0     0      0   \n",
       "3              0  ...   0     0       0     0     0       0     0      0   \n",
       "4              0  ...   0     0       0     0     0       0     0      0   \n",
       "\n",
       "  english                                           mp3_path  \n",
       "0       0  f/american_bach_soloists-j_s__bach_solo_cantat...  \n",
       "1       0  f/american_bach_soloists-j_s__bach_solo_cantat...  \n",
       "2       0  f/american_bach_soloists-j_s__bach_solo_cantat...  \n",
       "3       0  f/american_bach_soloists-j_s__bach_solo_cantat...  \n",
       "4       0  f/american_bach_soloists-j_s__bach_solo_cantat...  \n",
       "\n",
       "[5 rows x 190 columns]"
      ]
     },
     "execution_count": 11,
     "metadata": {},
     "output_type": "execute_result"
    }
   ],
   "source": [
    "# Solve format problem : two first columns are merged\n",
    "# extract first column and rest\n",
    "left, right = labels['\"clip_id\\t\"\"no voice\"'], labels.iloc[:, 1:]\n",
    "# split first column in two part at separator \"\\t\"\n",
    "split = left.str.split(pat = \"\\t\", expand=True).replace('\"', '')\n",
    "\n",
    "# put back the first column which is now two, with the rest\n",
    "cleaned = pd.concat([split, right], axis=1, ignore_index=True) \n",
    "# clean by removing quotes and add back header\n",
    "cleaned = cleaned.apply(lambda col : col.apply(lambda x : x.replace('\"', ''))).rename(columns = header)\n",
    "cleaned.head(5)"
   ]
  },
  {
   "cell_type": "markdown",
   "metadata": {},
   "source": [
    "### Analyse the dataset"
   ]
  },
  {
   "cell_type": "code",
   "execution_count": 12,
   "metadata": {},
   "outputs": [],
   "source": [
    "## TODO : Some statistics on the MTT dataset ?\n",
    "nb_labels_per_song = cleaned.iloc[:,1:-1].astype(int).sum(axis=1)\n",
    "nb_song_per_label = cleaned.iloc[:,1:-1].astype(int).sum(axis=0)\n",
    "nb_song_per_label = nb_song_per_label.sort_values(ascending=False)"
   ]
  },
  {
   "cell_type": "code",
   "execution_count": 13,
   "metadata": {},
   "outputs": [],
   "source": [
    "# label header is the header without clip_id and mp3_path > length 188 instead of 190\n",
    "label_header = np.asarray(list(header.values()))[1:-1]\n",
    "label_header_by_freq = np.asarray(nb_song_per_label.index)"
   ]
  },
  {
   "cell_type": "code",
   "execution_count": 14,
   "metadata": {},
   "outputs": [
    {
     "data": {
      "image/png": "[encoded data removed]",
      "text/plain": [
       "<Figure size 1152x432 with 1 Axes>"
      ]
     },
     "metadata": {
      "needs_background": "light"
     },
     "output_type": "display_data"
    }
   ],
   "source": [
    "fig = plt.figure(figsize=(16,6))\n",
    "\n",
    "plot_nb = 70\n",
    "\n",
    "y_pos = np.arange(plot_nb)\n",
    "plt.bar(y_pos, nb_song_per_label[:plot_nb], align='center', alpha=0.5)\n",
    "plt.xticks(y_pos, nb_song_per_label[:plot_nb])\n",
    "plt.ylabel('Occurence')\n",
    "plt.title('Label histogram')\n",
    "plt.xticks(np.arange(plot_nb), label_header_by_freq[:plot_nb], rotation=90, fontsize = 13)\n",
    "\n",
    "plt.show()"
   ]
  },
  {
   "cell_type": "code",
   "execution_count": 15,
   "metadata": {},
   "outputs": [
    {
     "name": "stdout",
     "output_type": "stream",
     "text": [
      "0 >  guitar  --  4852\n",
      "1 >  classical  --  4272\n",
      "2 >  slow  --  3547\n",
      "3 >  techno  --  2954\n",
      "4 >  strings  --  2729\n",
      "5 >  drums  --  2598\n",
      "6 >  electronic  --  2519\n",
      "7 >  rock  --  2371\n",
      "8 >  fast  --  2306\n",
      "9 >  piano  --  2056\n"
     ]
    }
   ],
   "source": [
    "# Find the most frequent labels to start with for training\n",
    "most_freq = nb_song_per_label\n",
    "for i in range(len(nb_song_per_label)) :\n",
    "    if nb_song_per_label[i] > 2000:\n",
    "        print(i, \"> \", label_header_by_freq[i], \" -- \", nb_song_per_label[i])"
   ]
  },
  {
   "cell_type": "code",
   "execution_count": 16,
   "metadata": {},
   "outputs": [],
   "source": [
    "best_10_labels = label_header_by_freq[:10]\n",
    "best_30_labels = label_header_by_freq[:30]"
   ]
  },
  {
   "cell_type": "code",
   "execution_count": 17,
   "metadata": {},
   "outputs": [
    {
     "name": "stdout",
     "output_type": "stream",
     "text": [
      "Number of songs :  25863\n",
      "Number of labels :  188\n",
      "Max number of songs tagged with the same label :  4852\n",
      "Max number of labels for a single song :  27\n"
     ]
    }
   ],
   "source": [
    "print(\"Number of songs : \" , cleaned.shape[0])\n",
    "print(\"Number of labels : \" , cleaned.shape[1]-2) # -2 is for index columns and mp3 path column\n",
    "print(\"Max number of songs tagged with the same label : \",max(nb_song_per_label))\n",
    "print(\"Max number of labels for a single song : \",max(nb_labels_per_song))"
   ]
  },
  {
   "cell_type": "markdown",
   "metadata": {},
   "source": [
    "## Co-occurence matrix"
   ]
  },
  {
   "cell_type": "markdown",
   "metadata": {},
   "source": [
    "Code from : https://stackoverflow.com/questions/20574257/constructing-a-co-occurrence-matrix-in-python-pandas"
   ]
  },
  {
   "cell_type": "code",
   "execution_count": 18,
   "metadata": {},
   "outputs": [],
   "source": [
    "def show_values(pc, fmt=\"%.2f\", **kw):\n",
    "    '''\n",
    "    Heatmap with text in each cell with matplotlib's pyplot\n",
    "    Source: http://stackoverflow.com/a/25074150/395857 \n",
    "    By HYRY\n",
    "    '''\n",
    "    #from itertools import izip\n",
    "    pc.update_scalarmappable()\n",
    "    ax = pc.axes\n",
    "    for p, color, value in zip(pc.get_paths(), pc.get_facecolors(), pc.get_array()):\n",
    "        x, y = p.vertices[:-2, :].mean(0)\n",
    "        if np.all(color[:3] > 0.5):\n",
    "            color = (0.0, 0.0, 0.0)\n",
    "        else:\n",
    "            color = (1.0, 1.0, 1.0)\n",
    "        ax.text(x, y, fmt % value, ha=\"center\", va=\"center\", color=color, **kw)\n",
    "\n",
    "def cm2inch(*tupl):\n",
    "    '''\n",
    "    Specify figure size in centimeter in matplotlib\n",
    "    Source: http://stackoverflow.com/a/22787457/395857\n",
    "    By gns-ank\n",
    "    '''\n",
    "    inch = 2.54\n",
    "    if type(tupl[0]) == tuple:\n",
    "        return tuple(i/inch for i in tupl[0])\n",
    "    else:\n",
    "        return tuple(i/inch for i in tupl)\n",
    "\n",
    "def heatmap(AUC, title, xlabel, ylabel, xticklabels, yticklabels):\n",
    "    '''\n",
    "    Inspired by:\n",
    "    - http://stackoverflow.com/a/16124677/395857 \n",
    "    - http://stackoverflow.com/a/25074150/395857\n",
    "    '''\n",
    "\n",
    "    # Plot it out\n",
    "    fig, ax = plt.subplots()    \n",
    "    c = ax.pcolor(AUC, edgecolors='k', linestyle= 'dashed', linewidths=0.2, cmap='RdBu', vmin=0.0, vmax=1.0)\n",
    "\n",
    "    # put the major ticks at the middle of each cell\n",
    "    ax.set_yticks(np.arange(AUC.shape[0]) + 0.5, minor=False)\n",
    "    ax.set_xticks(np.arange(AUC.shape[1]) + 0.5, minor=False)\n",
    "\n",
    "    # set tick labels\n",
    "    #ax.set_xticklabels(np.arange(1,AUC.shape[1]+1), minor=False)\n",
    "    ax.set_xticklabels(xticklabels, minor=False)\n",
    "    ax.set_yticklabels(yticklabels, minor=False)\n",
    "\n",
    "    # set title and x/y labels\n",
    "    plt.title(title)\n",
    "    plt.xlabel(xlabel)\n",
    "    plt.ylabel(ylabel)      \n",
    "\n",
    "    # Remove last blank column\n",
    "    plt.xlim( (0, AUC.shape[1]) )\n",
    "\n",
    "    # Turn off all the ticks\n",
    "    ax = plt.gca()    \n",
    "    for t in ax.xaxis.get_major_ticks():\n",
    "        t.tick1On = False\n",
    "        t.tick2On = False\n",
    "    for t in ax.yaxis.get_major_ticks():\n",
    "        t.tick1On = False\n",
    "        t.tick2On = False\n",
    "\n",
    "    # Add color bar\n",
    "    plt.colorbar(c)\n",
    "\n",
    "    # Add text in each cell \n",
    "    show_values(c)\n",
    "\n",
    "    # Proper orientation (origin at the top left instead of bottom left)\n",
    "    ax.invert_yaxis()\n",
    "    ax.xaxis.tick_top()\n",
    "\n",
    "    # resize \n",
    "    fig = plt.gcf()\n",
    "    fig.set_size_inches(cm2inch(40, 20))\n",
    "\n",
    "\n",
    "\n",
    "def check_overlaps(label_headers, label_data):\n",
    "\n",
    "\n",
    "    print('labels:\\n{0}'.format(label_data))\n",
    "\n",
    "    # Compute cooccurrence matrix \n",
    "    cooccurrence_matrix = np.dot(label_data.transpose(),label_data)\n",
    "    print('\\ncooccurrence_matrix:\\n{0}'.format(cooccurrence_matrix)) \n",
    "\n",
    "    # Compute cooccurrence matrix in percentage\n",
    "    # FYI: http://stackoverflow.com/questions/19602187/numpy-divide-each-row-by-a-vector-element\n",
    "    #      http://stackoverflow.com/questions/26248654/numpy-return-0-with-divide-by-zero/32106804#32106804\n",
    "    cooccurrence_matrix_diagonal = np.diagonal(cooccurrence_matrix)\n",
    "    with np.errstate(divide='ignore', invalid='ignore'):\n",
    "        cooccurrence_matrix_percentage = np.nan_to_num(np.true_divide(cooccurrence_matrix, \\\n",
    "                                                                      cooccurrence_matrix_diagonal[:, None]))\n",
    "    print('\\ncooccurrence_matrix_percentage:\\n{0}'.format(cooccurrence_matrix_percentage))\n",
    "\n",
    "    # Add count in labels\n",
    "    label_header_with_count = [ '{0} ({1})'.format(label_header, cooccurrence_matrix_diagonal[label_number]) \\\n",
    "                               for label_number, label_header in enumerate(label_headers)]  \n",
    "    print('\\nlabel_header_with_count: {0}'.format(label_header_with_count))\n",
    "\n",
    "    # Plotting\n",
    "    x_axis_size = cooccurrence_matrix_percentage.shape[0]\n",
    "    y_axis_size = cooccurrence_matrix_percentage.shape[1]\n",
    "    title = \"Co-occurrence matrix\\n\"\n",
    "    xlabel= ''#\"Labels\"\n",
    "    ylabel= ''#\"Labels\"\n",
    "    xticklabels = label_header_with_count\n",
    "    yticklabels = label_header_with_count\n",
    "    heatmap(cooccurrence_matrix_percentage, title, xlabel, ylabel, xticklabels, yticklabels)\n",
    "    plt.savefig('image_output.png', dpi=300, format='png', bbox_inches='tight') \n",
    "    # use format='svg' or 'pdf' for vectorial pictures\n",
    "    #plt.show()"
   ]
  },
  {
   "cell_type": "code",
   "execution_count": 19,
   "metadata": {},
   "outputs": [
    {
     "name": "stdout",
     "output_type": "stream",
     "text": [
      "labels:\n",
      "[[0 1 0 ... 0 0 0]\n",
      " [0 1 0 ... 0 0 0]\n",
      " [0 1 0 ... 0 0 0]\n",
      " ...\n",
      " [1 1 1 ... 0 0 0]\n",
      " [1 1 1 ... 0 0 0]\n",
      " [1 1 1 ... 0 0 0]]\n",
      "\n",
      "cooccurrence_matrix:\n",
      "[[4852 1004 1164   79  865  566  116 1024  403  478]\n",
      " [1004 4272 1066   12 1761   30   40    5  342  932]\n",
      " [1164 1066 3547  180  809  311  371  103   65  618]\n",
      " [  79   12  180 2954   23  672 1565  185 1057   34]\n",
      " [ 865 1761  809   23 2729   84   49   10  241  318]\n",
      " [ 566   30  311  672   84 2598  538  539  574   92]\n",
      " [ 116   40  371 1565   49  538 2519  147  673   67]\n",
      " [1024    5  103  185   10  539  147 2371  380   40]\n",
      " [ 403  342   65 1057  241  574  673  380 2306  210]\n",
      " [ 478  932  618   34  318   92   67   40  210 2056]]\n",
      "\n",
      "cooccurrence_matrix_percentage:\n",
      "[[1.         0.20692498 0.23990107 0.01628195 0.178277   0.11665293\n",
      "  0.02390767 0.21104699 0.08305853 0.09851608]\n",
      " [0.23501873 1.         0.24953184 0.00280899 0.4122191  0.00702247\n",
      "  0.0093633  0.00117041 0.08005618 0.21816479]\n",
      " [0.32816465 0.30053566 1.         0.05074711 0.22808007 0.08767973\n",
      "  0.10459543 0.02903862 0.01832535 0.17423175]\n",
      " [0.0267434  0.00406229 0.06093433 1.         0.00778605 0.22748815\n",
      "  0.52979012 0.06262695 0.35781991 0.01150982]\n",
      " [0.31696592 0.64529132 0.29644558 0.008428   1.         0.03078051\n",
      "  0.01795529 0.00366435 0.08831074 0.1165262 ]\n",
      " [0.21785989 0.01154734 0.11970747 0.25866051 0.03233256 1.\n",
      "  0.20708237 0.20746728 0.22093918 0.03541186]\n",
      " [0.04605002 0.01587932 0.14728067 0.62127829 0.01945216 0.21357682\n",
      "  1.         0.05835649 0.26716951 0.02659786]\n",
      " [0.43188528 0.00210881 0.04344159 0.07802615 0.00421763 0.22733024\n",
      "  0.06199916 1.         0.16026993 0.01687052]\n",
      " [0.17476149 0.14830876 0.02818734 0.45836947 0.10450997 0.24891587\n",
      "  0.29184735 0.16478751 1.         0.09106678]\n",
      " [0.23249027 0.45330739 0.30058366 0.01653696 0.15466926 0.04474708\n",
      "  0.03258755 0.01945525 0.10214008 1.        ]]\n",
      "\n",
      "label_header_with_count: ['guitar (4852)', 'classical (4272)', 'slow (3547)', 'techno (2954)', 'strings (2729)', 'drums (2598)', 'electronic (2519)', 'rock (2371)', 'fast (2306)', 'piano (2056)']\n"
     ]
    },
    {
     "data": {
      "image/png": "[encoded data removed]",
      "text/plain": [
       "<Figure size 1133.86x566.929 with 2 Axes>"
      ]
     },
     "metadata": {
      "needs_background": "light"
     },
     "output_type": "display_data"
    }
   ],
   "source": [
    "chosen_labels = best_10_labels\n",
    "check_overlaps(chosen_labels, cleaned.loc[:,chosen_labels].values.astype(int))"
   ]
  },
  {
   "cell_type": "markdown",
   "metadata": {},
   "source": [
    "## Load and format mp3 data "
   ]
  },
  {
   "cell_type": "markdown",
   "metadata": {},
   "source": [
    "### Create wav files from the mp3 dataset"
   ]
  },
  {
   "cell_type": "markdown",
   "metadata": {},
   "source": [
    "You should not run this, it was only supposed to be used once for converting all mp3 files."
   ]
  },
  {
   "cell_type": "code",
   "execution_count": 20,
   "metadata": {},
   "outputs": [],
   "source": [
    "def from_mp3_to_wav(files, wav_dir):\n",
    "    print(\"Start converting files from mp3 to wav...\")\n",
    "    count = 0\n",
    "    for file_name in files :\n",
    "        \n",
    "        file_name_cut = file_name[len(DATA_DIRECTORY):-4]\n",
    "\n",
    "        dir_path = wav_dir + file_name_cut[:2]\n",
    "\n",
    "        new_file_name = wav_dir + file_name_cut + \".wav\"\n",
    "        \n",
    "        if not os.path.exists(dir_path):\n",
    "            os.makedirs(dir_path)\n",
    "            \n",
    "        try :\n",
    "            y, sr = librosa.load(file_name, sr=None, mono=True)\n",
    "            librosa.output.write_wav(new_file_name, y, sr)\n",
    "            \n",
    "        except EOFError :\n",
    "            print(\"EOFERROR : The following file could not be loaded with librosa - \", file_name) \n",
    "            \n",
    "        count +=1\n",
    "        if (count % 200) == 0:\n",
    "            print(count)"
   ]
  },
  {
   "cell_type": "code",
   "execution_count": null,
   "metadata": {},
   "outputs": [],
   "source": [
    "t0a = time.time()\n",
    "files = find_files(DATA_DIRECTORY)\n",
    "t1a = time.time()\n",
    "from_mp3_to_wav(files, WAV_DIRECTORY)\n",
    "t2a = time.time()"
   ]
  },
  {
   "cell_type": "code",
   "execution_count": null,
   "metadata": {},
   "outputs": [],
   "source": [
    "print(\"Find files time : {:.3f} sec\".format(t1a-t0a))\n",
    "print(\"From mp3 to wav time : {:.2f} hours\".format((t2a-t1a)/3600))"
   ]
  },
  {
   "cell_type": "code",
   "execution_count": null,
   "metadata": {},
   "outputs": [],
   "source": [
    "print(\"Time to convert 1 song from mp3 to wav : {:.4f} sec\".format((t2a-t1a)/FILE_NB))"
   ]
  },
  {
   "cell_type": "markdown",
   "metadata": {},
   "source": [
    "# -------------start time tests---------------#"
   ]
  },
  {
   "cell_type": "markdown",
   "metadata": {},
   "source": [
    "Need to clean this part later !"
   ]
  },
  {
   "cell_type": "code",
   "execution_count": null,
   "metadata": {},
   "outputs": [],
   "source": [
    "n_songs = 100\n",
    "labels = cleaned\n",
    "labels_name = LABELS_NAME\n",
    "\n",
    "t0 = time.time()\n",
    "wav_files = find_files(WAV_DIRECTORY, pattern='*.wav', sample=n_songs)\n",
    "print(\"Files found > start loading wav files\")\n",
    "print(WAV_DIRECTORY)\n",
    "t1 = time.time()\n",
    "\n",
    "count=0\n",
    "\n",
    "audios_wav = np.ndarray(shape=(n_songs, BATCH_NB, BATCH_SIZE, 1), dtype=np.float32, order='F')\n",
    "tags_wav = np.ndarray(shape=(n_songs, BATCH_NB, NB_LABELS), dtype=np.float32, order='F')\n",
    "    \n",
    "for wf in wav_files :\n",
    "    # Load WAV file \n",
    "    try :\n",
    "        audio, _ = librosa.load(wf, sr=None, mono=True)\n",
    "    except EOFError :\n",
    "        print(\"EOFERROR : The following file could not be loaded with librosa - \", filename)\n",
    "\n",
    "    audio = audio.reshape(-1, 1)\n",
    "    \n",
    "    #create batches\n",
    "    audio_batch = np.ndarray(shape=(BATCH_NB, BATCH_SIZE, 1), dtype=np.float32, order='F')\n",
    "    label_batch = np.ndarray(shape=(BATCH_NB, NB_LABELS), dtype=np.float32, order='F')\n",
    "    for n in range(BATCH_NB) :\n",
    "        audio_batch[n] = audio[n*BATCH_SIZE: (n+1)*BATCH_SIZE,:]\n",
    "\n",
    "        # take labels or corresponding mp3 song\n",
    "        select_labels  = labels.loc[labels['mp3_path'] ==wf[len(WAV_DIRECTORY):-4]+\".mp3\"]\n",
    "\n",
    "        # select wanted labels\n",
    "        select_labels = select_labels[labels_name]\n",
    "\n",
    "        label_batch[n] = select_labels.values.reshape(NB_LABELS)\n",
    "\n",
    "    audios_wav[count] = audio_batch\n",
    "    tags_wav[count] = label_batch\n",
    "\n",
    "    count +=1\n",
    "    if (count % 10) == 0:\n",
    "        print(count)\n",
    "        \n",
    "t2 = time.time()"
   ]
  },
  {
   "cell_type": "code",
   "execution_count": null,
   "metadata": {},
   "outputs": [],
   "source": [
    "print(\"Loading time for 100 wav songs : {:.3f}\".format(t2-t0))\n",
    "print(\"Loading time for 1 wav songs : {:.4f}\".format((t2-t0)/n_songs))"
   ]
  },
  {
   "cell_type": "code",
   "execution_count": null,
   "metadata": {},
   "outputs": [],
   "source": [
    "n_songs = 100\n",
    "labels = cleaned\n",
    "labels_name = LABELS_NAME\n",
    "\n",
    "t00 = time.time()\n",
    "mp3_files = find_files(DATA_DIRECTORY, pattern='*.mp3', sample=n_songs)\n",
    "print(\"Files found > start loading wav files\")\n",
    "print(DATA_DIRECTORY)\n",
    "t11 = time.time()\n",
    "\n",
    "count=0\n",
    "\n",
    "audios_mp3 = np.ndarray(shape=(n_songs, BATCH_NB, BATCH_SIZE, 1), dtype=np.float32, order='F')\n",
    "tags_mp3 = np.ndarray(shape=(n_songs, BATCH_NB, NB_LABELS), dtype=np.float32, order='F')\n",
    "    \n",
    "for mf in mp3_files :\n",
    "    # Load MP3 file \n",
    "    try :\n",
    "        audio, _ = librosa.load(mf, sr=None, mono=True)\n",
    "    except EOFError :\n",
    "        print(\"EOFERROR : The following file could not be loaded with librosa - \", filename)\n",
    "\n",
    "    audio = audio.reshape(-1, 1)\n",
    "    \n",
    "    #create batches\n",
    "    audio_batch = np.ndarray(shape=(BATCH_NB, BATCH_SIZE, 1), dtype=np.float32, order='F')\n",
    "    label_batch = np.ndarray(shape=(BATCH_NB, NB_LABELS), dtype=np.float32, order='F')\n",
    "    for n in range(BATCH_NB) :\n",
    "        audio_batch[n] = audio[n*BATCH_SIZE: (n+1)*BATCH_SIZE,:]\n",
    "\n",
    "        # take labels or corresponding mp3 song\n",
    "        select_labels  = labels.loc[labels['mp3_path'] ==mf[len(DATA_DIRECTORY):-4]+\".mp3\"]\n",
    "\n",
    "        # select wanted labels\n",
    "        select_labels = select_labels[labels_name]\n",
    "\n",
    "        label_batch[n] = select_labels.values.reshape(NB_LABELS)\n",
    "\n",
    "    audios_mp3[count] = audio_batch\n",
    "    tags_mp3[count] = label_batch\n",
    "\n",
    "    count +=1\n",
    "    if (count % 10) == 0:\n",
    "        print(count)\n",
    "        \n",
    "t22 = time.time()"
   ]
  },
  {
   "cell_type": "code",
   "execution_count": null,
   "metadata": {},
   "outputs": [],
   "source": [
    "print(\"Loading time for 100 mp3 songs : {:.3f}\".format(t22-t00))\n",
    "print(\"Loading time for 1 mp3 songs : {:.4f}\".format((t22-t00)/n_songs))"
   ]
  },
  {
   "cell_type": "markdown",
   "metadata": {},
   "source": [
    "# -------------end time tests---------------#"
   ]
  },
  {
   "cell_type": "markdown",
   "metadata": {},
   "source": [
    "### Loading audio & tags"
   ]
  },
  {
   "cell_type": "code",
   "execution_count": 21,
   "metadata": {},
   "outputs": [],
   "source": [
    "# TODO : not efficient to \n",
    "# - give the whole label dataset to the function as argument\n",
    "# - look in the label dataset at each iteration to retrieve the label\n",
    "#   > should concat before randomize\n",
    "# - append to an array and then convert to numpy ? > check\n",
    "\n",
    "# labels_name : liste of columns name which we want to load\n",
    "\n",
    "# Use Example \n",
    "# load_audio_label(cleaned, num_songs=100, directory=WAV_DIRECTORY, sub_dir=TRAIN_DIR, file_type=\"wav\")\n",
    "\n",
    "def load_audio_label(labels, num_songs=NB_SONGS, sample_rate=None, directory=WAV_DIRECTORY, \\\n",
    "                     labels_name=LABELS_NAME, sub_dir=None, file_type=\"wav\"):\n",
    "    \n",
    "    assert (file_type==\"wav\" or file_type==\"mp3\"), \"The argument file_type should be either 'wav', either 'mp3'.\"\n",
    "    if (file_type==\"wav\" and directory!=WAV_DIRECTORY) or (file_type==\"mp3\" and directory!=DATA_DIRECTORY):\n",
    "        warnings.warn(\"File type and directory may not correspond. Make sure the \\\n",
    "        directory gave as parameter contains the right type of files\", FutureWarning, stacklevel=2)\n",
    "\n",
    "    if file_type==\"mp3\" :\n",
    "        files = find_files(directory, sample=num_songs, sub_dir=sub_dir)\n",
    "    if file_type==\"wav\" :\n",
    "        files = find_files(directory, sample=num_songs, sub_dir=sub_dir, pattern='*.wav')\n",
    " \n",
    "    randomized_files = randomize_files(files)\n",
    "    count = 0\n",
    "    audios = np.ndarray(shape=(num_songs, BATCH_NB, BATCH_SIZE, 1), dtype=np.float32, order='F')\n",
    "    tags = np.ndarray(shape=(num_songs, BATCH_NB, NB_LABELS), dtype=np.float32, order='F')\n",
    "    \n",
    "    for filename in randomized_files:\n",
    "\n",
    "        # Load audio (MP3/WAV) file        \n",
    "        try :\n",
    "            audio, _ = librosa.load(filename, sr=sample_rate, mono=True)\n",
    "        except EOFError :\n",
    "            print(\"EOFERROR : The following file could not be loaded with librosa - \", filename)\n",
    "\n",
    "        audio = audio.reshape(-1, 1)\n",
    "\n",
    "        #create batches\n",
    "        audio_batch = np.ndarray(shape=(BATCH_NB, BATCH_SIZE, 1), dtype=np.float32, order='F')\n",
    "        label_batch = np.ndarray(shape=(BATCH_NB, NB_LABELS), dtype=np.float32, order='F')\n",
    "        for n in range(BATCH_NB) :\n",
    "            audio_batch[n] = audio[n*BATCH_SIZE: (n+1)*BATCH_SIZE,:]\n",
    "            \n",
    "            # take labels or corresponding song\n",
    "            \n",
    "            if file_type==\"mp3\" :\n",
    "                select_labels  = labels.loc[labels['mp3_path']==filename[len(directory):]]\n",
    "            \n",
    "            if file_type==\"wav\" :\n",
    "                select_labels  = labels.loc[labels['mp3_path']==filename[len(directory):-4]+\".mp3\"]\n",
    "\n",
    "            # select wanted labels\n",
    "            select_labels = select_labels[labels_name]\n",
    "\n",
    "            label_batch[n] = select_labels.values.reshape(NB_LABELS)\n",
    "        \n",
    "        audios[count] = audio_batch\n",
    "        tags[count] = label_batch\n",
    "        \n",
    "        count +=1\n",
    "        if (count % 10) == 0:\n",
    "            print(count)\n",
    "\n",
    "    return audios, tags"
   ]
  },
  {
   "cell_type": "code",
   "execution_count": 22,
   "metadata": {
    "scrolled": true
   },
   "outputs": [
    {
     "name": "stdout",
     "output_type": "stream",
     "text": [
      "Loading data ...\n",
      "10\n",
      "20\n",
      ">> Total loading time - 20 songs : 6.26 sec\n"
     ]
    }
   ],
   "source": [
    "# load audios and labels > convert to numpy\n",
    "# CAREFUL : the argument num_songs is important and shouldn't be too big \n",
    "# > otherwise MEMORY ISSUES !!!!!!\n",
    "print(\"Loading data ...\")\n",
    "start = time.time()\n",
    "audios, tags = load_audio_label(cleaned, sub_dir=TRAIN_DIR, \\\n",
    "                                file_type=\"wav\", directory=WAV_DIRECTORY)\n",
    "end = time.time()\n",
    "duration = end-start\n",
    "print(\">> Total loading time - {} songs : {:.2f} sec\".format(NB_SONGS, duration))"
   ]
  },
  {
   "cell_type": "code",
   "execution_count": 23,
   "metadata": {},
   "outputs": [
    {
     "name": "stdout",
     "output_type": "stream",
     "text": [
      "Shape of audios list :\n",
      "(20, 9, 51776, 1)\n",
      "\n",
      ">> shape is : [num_song, num_batches, batch_size, 1]\n"
     ]
    }
   ],
   "source": [
    "print(\"Shape of audios list :\")\n",
    "print(audios.shape)\n",
    "print()\n",
    "print(\">> shape is : [num_song, num_batches, batch_size, 1]\")\n"
   ]
  },
  {
   "cell_type": "code",
   "execution_count": 24,
   "metadata": {},
   "outputs": [
    {
     "name": "stdout",
     "output_type": "stream",
     "text": [
      "Shape of tags list :\n",
      "(20, 9, 2)\n",
      "\n",
      ">> shape is : [num_song, num_labels (mp3 file and id excluded), 1] \n",
      "(or : [num_song, num_labels, 1, str_len, 1])\n"
     ]
    }
   ],
   "source": [
    "print(\"Shape of tags list :\")\n",
    "print(tags.shape)\n",
    "print()\n",
    "print(\">> shape is : [num_song, num_labels (mp3 file and id excluded), 1] \")\n",
    "print(\"(or : [num_song, num_labels, 1, str_len, 1])\")"
   ]
  },
  {
   "cell_type": "code",
   "execution_count": 25,
   "metadata": {},
   "outputs": [],
   "source": [
    "# put all batches at the same level (remove song dimension in the array)\n",
    "# ex : go from dimensions (n, m, k, 1) > to (n*m, k, 1)\n",
    "audios_flatten = audios.reshape(-1, audios.shape[-2], audios.shape[-1])\n",
    "tags_flatten = tags.reshape(-1, tags.shape[-1])"
   ]
  },
  {
   "cell_type": "markdown",
   "metadata": {},
   "source": [
    "## Neural Network model"
   ]
  },
  {
   "cell_type": "markdown",
   "metadata": {},
   "source": [
    "### Save neural net state tool"
   ]
  },
  {
   "cell_type": "code",
   "execution_count": 26,
   "metadata": {},
   "outputs": [],
   "source": [
    "# not used for now\n",
    "def save(saver, sess, logdir, step):\n",
    "    model_name = 'model.ckpt'\n",
    "    checkpoint_path = os.path.join(logdir, model_name)\n",
    "    print('Storing checkpoint to {} ...'.format(logdir), end=\"\")\n",
    "    sys.stdout.flush()\n",
    "\n",
    "    if not os.path.exists(logdir):\n",
    "        os.makedirs(logdir)\n",
    "\n",
    "    saver.save(sess, checkpoint_path, global_step=step)\n",
    "    print(' Done.')"
   ]
  },
  {
   "cell_type": "markdown",
   "metadata": {},
   "source": [
    "### Initialize tf"
   ]
  },
  {
   "cell_type": "code",
   "execution_count": 27,
   "metadata": {},
   "outputs": [],
   "source": [
    "# run this cell everytime before relaunching tensorflow session\n",
    "tf.reset_default_graph()"
   ]
  },
  {
   "cell_type": "markdown",
   "metadata": {},
   "source": [
    "### Training"
   ]
  },
  {
   "cell_type": "code",
   "execution_count": 28,
   "metadata": {},
   "outputs": [],
   "source": [
    "# keep results for plotting\n",
    "train_loss_results = []\n",
    "train_auc_results = []"
   ]
  },
  {
   "cell_type": "code",
   "execution_count": 29,
   "metadata": {},
   "outputs": [
    {
     "data": {
      "text/plain": [
       "'print(\"GLOBAL :\", [str(i.name) for i in tf.global_variables()])\\n    print(\"LOCAL :\", [str(i.name) for i in tf.local_variables()])\\n    print(\"TRAINABLE :\",[str(i.name) for i in tf.trainable_variables()]) '"
      ]
     },
     "execution_count": 29,
     "metadata": {},
     "output_type": "execute_result"
    }
   ],
   "source": [
    "# Lines used to understand local vs global vs trainable\n",
    "'''print(\"GLOBAL :\", [str(i.name) for i in tf.global_variables()])\n",
    "    print(\"LOCAL :\", [str(i.name) for i in tf.local_variables()])\n",
    "    print(\"TRAINABLE :\",[str(i.name) for i in tf.trainable_variables()]) '''"
   ]
  },
  {
   "cell_type": "code",
   "execution_count": 30,
   "metadata": {
    "scrolled": true
   },
   "outputs": [
    {
     "name": "stdout",
     "output_type": "stream",
     "text": [
      "Initializing tf model ...\n",
      "Input shape : (180, 51776, 1)\n",
      "Labels : [0. 0. 0. 0. 0. 0. 0. 0. 0. 0. 0. 0. 0. 0. 0. 0. 0. 0. 0. 0. 0. 0. 0. 0.\n",
      " 0. 0. 0. 0. 0. 0. 0. 0. 0. 0. 0. 0. 0. 0. 0. 0. 0. 0. 0. 0. 0. 0. 0. 0.\n",
      " 0. 0. 0. 0. 0. 0. 0. 0. 0. 0. 0. 0. 0. 0. 0. 0. 0. 0. 0. 0. 0. 0. 0. 0.\n",
      " 0. 0. 0. 0. 0. 0. 0. 0. 0. 0. 0. 0. 0. 0. 0. 0. 0. 0. 0. 0. 0. 0. 0. 0.\n",
      " 0. 0. 0. 0. 0. 0. 0. 0. 0. 0. 0. 0. 0. 0. 0. 0. 0. 0. 0. 0. 0. 0. 0. 0.\n",
      " 0. 0. 0. 0. 0. 0. 0. 0. 0. 0. 0. 0. 0. 0. 0. 0. 0. 0. 0. 0. 0. 0. 0. 0.\n",
      " 0. 1. 0. 1. 0. 1. 0. 1. 0. 1. 0. 1. 0. 1. 0. 1. 0. 1. 0. 0. 0. 0. 0. 0.\n",
      " 0. 0. 0. 0. 0. 0. 0. 0. 0. 0. 0. 0. 0. 0. 0. 0. 0. 0. 0. 0. 0. 0. 0. 0.\n",
      " 0. 0. 0. 0. 0. 0. 0. 0. 0. 0. 0. 0. 0. 0. 0. 0. 0. 0. 0. 0. 0. 0. 0. 0.\n",
      " 0. 0. 0. 0. 0. 0. 0. 0. 0. 0. 0. 0. 0. 0. 0. 0. 0. 0. 0. 0. 0. 0. 0. 0.\n",
      " 0. 0. 0. 0. 0. 0. 0. 0. 0. 0. 0. 0. 0. 0. 0. 0. 0. 0. 0. 0. 0. 0. 0. 0.\n",
      " 0. 0. 0. 0. 0. 0. 0. 0. 0. 0. 0. 0. 0. 0. 0. 0. 0. 0. 0. 0. 0. 0. 0. 0.\n",
      " 0. 1. 0. 1. 0. 1. 0. 1. 0. 1. 0. 1. 0. 1. 0. 1. 0. 1. 0. 0. 0. 0. 0. 0.\n",
      " 0. 0. 0. 0. 0. 0. 0. 0. 0. 0. 0. 0. 0. 0. 0. 0. 0. 0. 0. 0. 0. 0. 0. 0.\n",
      " 0. 0. 0. 0. 0. 0. 0. 0. 0. 0. 0. 0. 0. 0. 0. 0. 0. 0. 0. 0. 0. 0. 0. 0.]\n",
      "\n",
      "Start training...\n"
     ]
    },
    {
     "data": {
      "application/vnd.jupyter.widget-view+json": {
       "model_id": "6a4ce1804eef4f7e92858e3fa3b1d593",
       "version_major": 2,
       "version_minor": 0
      },
      "text/plain": [
       "HBox(children=(IntProgress(value=0, max=50), HTML(value='')))"
      ]
     },
     "metadata": {},
     "output_type": "display_data"
    },
    {
     "name": "stdout",
     "output_type": "stream",
     "text": [
      "Iter:  0, Loss: 0.9333, AUC : 0.0000\n",
      "Iter:  1, Loss: 0.8824, AUC : 0.2204\n",
      "Iter:  2, Loss: 0.8398, AUC : 0.4338\n",
      "Iter:  3, Loss: 0.8036, AUC : 0.5716\n",
      "Iter:  4, Loss: 0.7788, AUC : 0.6667\n",
      "Iter:  5, Loss: 0.7613, AUC : 0.7306\n",
      "Iter:  6, Loss: 0.7514, AUC : 0.7748\n",
      "Iter:  7, Loss: 0.7442, AUC : 0.8022\n",
      "Iter:  8, Loss: 0.7397, AUC : 0.8252\n",
      "Iter:  9, Loss: 0.7371, AUC : 0.8442\n",
      "Iter: 10, Loss: 0.7353, AUC : 0.8579\n",
      "Iter: 11, Loss: 0.7343, AUC : 0.8686\n",
      "Iter: 12, Loss: 0.7327, AUC : 0.8770\n",
      "Iter: 13, Loss: 0.7321, AUC : 0.8835\n",
      "Iter: 14, Loss: 0.7315, AUC : 0.8885\n",
      "Iter: 15, Loss: 0.7311, AUC : 0.8926\n",
      "Iter: 16, Loss: 0.7308, AUC : 0.8960\n",
      "Iter: 17, Loss: 0.7306, AUC : 0.8986\n",
      "Iter: 18, Loss: 0.7304, AUC : 0.9010\n",
      "Iter: 19, Loss: 0.7303, AUC : 0.9035\n",
      "Iter: 20, Loss: 0.7302, AUC : 0.9054\n",
      "Iter: 21, Loss: 0.7301, AUC : 0.9072\n",
      "Iter: 22, Loss: 0.7300, AUC : 0.9089\n",
      "Iter: 23, Loss: 0.7299, AUC : 0.9109\n",
      "Iter: 24, Loss: 0.7298, AUC : 0.9125\n",
      "Iter: 25, Loss: 0.7298, AUC : 0.9140\n",
      "Iter: 26, Loss: 0.7298, AUC : 0.9154\n",
      "Iter: 27, Loss: 0.7297, AUC : 0.9168\n",
      "Iter: 28, Loss: 0.7297, AUC : 0.9181\n",
      "Iter: 29, Loss: 0.7297, AUC : 0.9193\n",
      "Iter: 30, Loss: 0.7296, AUC : 0.9204\n",
      "Iter: 31, Loss: 0.7296, AUC : 0.9213\n",
      "Iter: 32, Loss: 0.7296, AUC : 0.9223\n",
      "Iter: 33, Loss: 0.7296, AUC : 0.9231\n",
      "Iter: 34, Loss: 0.7296, AUC : 0.9242\n",
      "Iter: 35, Loss: 0.7296, AUC : 0.9250\n",
      "Iter: 36, Loss: 0.7296, AUC : 0.9257\n",
      "Iter: 37, Loss: 0.7295, AUC : 0.9265\n",
      "Iter: 38, Loss: 0.7295, AUC : 0.9273\n",
      "Iter: 39, Loss: 0.7295, AUC : 0.9280\n",
      "Iter: 40, Loss: 0.7295, AUC : 0.9286\n",
      "Iter: 41, Loss: 0.7295, AUC : 0.9292\n",
      "Iter: 42, Loss: 0.7295, AUC : 0.9299\n",
      "Iter: 43, Loss: 0.7295, AUC : 0.9304\n",
      "Iter: 44, Loss: 0.7295, AUC : 0.9308\n",
      "Iter: 45, Loss: 0.7295, AUC : 0.9311\n",
      "Iter: 46, Loss: 0.7295, AUC : 0.9316\n",
      "Iter: 47, Loss: 0.7295, AUC : 0.9321\n",
      "Iter: 48, Loss: 0.7295, AUC : 0.9324\n",
      "Iter: 49, Loss: 0.7295, AUC : 0.9328\n",
      "\n",
      "Total time: 33.75 sec.\n"
     ]
    }
   ],
   "source": [
    "print(\"Initializing tf model ...\")\n",
    "\n",
    "audio_tf= tf.convert_to_tensor(audios_flatten, np.float32)\n",
    "print(\"Input shape : {}\".format(audio_tf.shape))\n",
    "print(\"Labels : {}\".format(tags_flatten.flatten()))\n",
    "print()\n",
    "\n",
    "net = build_model(audio_tf, is_training=True, config=BASIC_CONFIG) \n",
    "predictions = tf.layers.dense(net, NB_LABELS, activation=tf.sigmoid)\n",
    "loss = tf.nn.sigmoid_cross_entropy_with_logits(labels = tags_flatten, logits = predictions)\n",
    "reduced_loss = tf.reduce_mean(loss)\n",
    "train_op = tf.train.AdamOptimizer(learning_rate=LEARNING_RATE).minimize(reduced_loss)\n",
    "auc = tf.metrics.auc(labels = tags_flatten, predictions=predictions)\n",
    "\n",
    "\n",
    "# Saver for storing checkpoints of the model. (Wavenets)\n",
    "saver = tf.train.Saver(var_list=tf.global_variables())\n",
    "    \n",
    "print(\"Start training...\")\n",
    "\n",
    "start = time.time()\n",
    "\n",
    "with tf.Session() as sess:\n",
    "    \n",
    "    init = tf.group(tf.global_variables_initializer(), tf.local_variables_initializer())\n",
    "    \n",
    "    sess.run(init)\n",
    "    \n",
    "    for i in tqdm(range(EPOCHS)):\n",
    "        predict, _, loss_value, auc_score = sess.run([predictions, train_op, reduced_loss, auc])\n",
    "        \n",
    "        auc_result, update_op = auc_score\n",
    "        \n",
    "        train_loss_results.append(loss_value)\n",
    "        train_auc_results.append(auc_result)\n",
    "        \n",
    "        print(\"Iter: {:2}, Loss: {:.4f}, AUC : {:.4f}\".format(i, loss_value, auc_result))\n",
    "        #print(\"Predictions : {}\".format(predict.flatten()))\n",
    "        #print()\n",
    "     \n",
    "    # use wavenet function > see later (for now simplest way)\n",
    "    #save(saver, sess, LOGDIR, EPOCHS)\n",
    "    saver.save(sess, LOGDIR)\n",
    "\n",
    "end = time.time()\n",
    "duration2 = end-start\n",
    "print(\"Total time: {:.2f} sec.\".format(duration2))"
   ]
  },
  {
   "cell_type": "code",
   "execution_count": 31,
   "metadata": {},
   "outputs": [
    {
     "data": {
      "image/png": "[encoded data removed]",
      "text/plain": [
       "<Figure size 864x576 with 2 Axes>"
      ]
     },
     "metadata": {
      "needs_background": "light"
     },
     "output_type": "display_data"
    }
   ],
   "source": [
    "# modify this : the epoch axis not not integers which doesn't make sense\n",
    "fig, axes = plt.subplots(2, sharex=True, figsize=(12, 8))\n",
    "fig.suptitle('Training Metrics')\n",
    "\n",
    "axes[0].set_ylabel(\"Loss\", fontsize=14)\n",
    "axes[0].plot(train_loss_results)\n",
    "\n",
    "axes[1].set_ylabel(\"AUC score\", fontsize=14)\n",
    "axes[1].set_xlabel(\"Epoch\", fontsize=14)\n",
    "axes[1].plot(train_auc_results)\n",
    "plt.show()"
   ]
  },
  {
   "cell_type": "markdown",
   "metadata": {},
   "source": [
    "## Test set"
   ]
  },
  {
   "cell_type": "code",
   "execution_count": 32,
   "metadata": {},
   "outputs": [
    {
     "name": "stdout",
     "output_type": "stream",
     "text": [
      "10\n"
     ]
    }
   ],
   "source": [
    "TEST_SIZE = 10\n",
    "\n",
    "audios_test, tags_test = load_audio_label(cleaned, num_songs=TEST_SIZE, sub_dir=TEST_DIR)\n",
    "\n",
    "audios_test = audios_test.reshape(-1, audios_test.shape[-2], audios_test.shape[-1])\n",
    "tags_test = tags_test.reshape(-1, tags_test.shape[-1])\n",
    "\n",
    "audios_test_tf = tf.convert_to_tensor(audios_test, np.float32)\n"
   ]
  },
  {
   "cell_type": "code",
   "execution_count": 33,
   "metadata": {},
   "outputs": [
    {
     "name": "stdout",
     "output_type": "stream",
     "text": [
      "INFO:tensorflow:Restoring parameters from checkpoints/\n",
      "Model restored.\n"
     ]
    }
   ],
   "source": [
    "variables_to_restore = {\n",
    "    var.name[:-2]: var for var in tf.global_variables()\n",
    "    if not ('state_buffer' in var.name or 'pointer' in var.name)}\n",
    "\n",
    "# Add ops to save and restore all the variables.\n",
    "saver = tf.train.Saver(variables_to_restore)\n",
    "\n",
    "# Later, launch the model, use the saver to restore variables from disk, and\n",
    "# do some work with the model.\n",
    "with tf.Session() as sess:\n",
    "      # Restore variables from disk.\n",
    "    saver.restore(sess, LOGDIR)\n",
    "    print(\"Model restored.\")\n",
    "    \n",
    "    init = tf.group(tf.global_variables_initializer(), tf.local_variables_initializer())\n",
    "\n",
    "    sess.run(init) \n",
    "\n",
    "    predicts = sess.run([audios_test_tf, predictions, train_op, reduced_loss, auc])"
   ]
  },
  {
   "cell_type": "code",
   "execution_count": 34,
   "metadata": {},
   "outputs": [
    {
     "name": "stdout",
     "output_type": "stream",
     "text": [
      "AUC Score : (0.0, 0.25950295)\n"
     ]
    }
   ],
   "source": [
    "# Print some results \n",
    "print(\"AUC Score :\", predicts[4])"
   ]
  },
  {
   "cell_type": "code",
   "execution_count": 35,
   "metadata": {},
   "outputs": [
    {
     "name": "stdout",
     "output_type": "stream",
     "text": [
      "PREDICTIONS : [[0.45768988 0.34424967]\n",
      " [0.40885735 0.2848935 ]\n",
      " [0.4548959  0.33896983]\n",
      " [0.6222928  0.24535187]\n",
      " [0.34733555 0.43668178]\n",
      " [0.47935987 0.35609186]\n",
      " [0.4718343  0.27246812]\n",
      " [0.54273474 0.22356121]\n",
      " [0.56624687 0.2718722 ]\n",
      " [0.5212986  0.27925238]\n",
      " [0.35513446 0.3318452 ]\n",
      " [0.5127918  0.37382936]\n",
      " [0.4802518  0.25148618]\n",
      " [0.40309003 0.25665268]\n",
      " [0.594305   0.28470203]\n",
      " [0.53997093 0.33600947]\n",
      " [0.3187251  0.30771005]\n",
      " [0.44714713 0.34178025]\n",
      " [0.44508964 0.5139853 ]\n",
      " [0.35548255 0.41854742]\n",
      " [0.4229921  0.267793  ]\n",
      " [0.6378571  0.28201392]\n",
      " [0.5199904  0.35904086]\n",
      " [0.48223105 0.36018735]\n",
      " [0.42327833 0.37729684]\n",
      " [0.44798237 0.34801915]\n",
      " [0.4636852  0.27276453]\n",
      " [0.45486483 0.26602826]\n",
      " [0.6949176  0.21301603]\n",
      " [0.50790876 0.291939  ]\n",
      " [0.66778064 0.34050795]\n",
      " [0.46393037 0.37767333]\n",
      " [0.44271377 0.456553  ]\n",
      " [0.44603026 0.3595928 ]\n",
      " [0.5833367  0.29755247]\n",
      " [0.4109659  0.38074374]\n",
      " [0.4764103  0.20746157]\n",
      " [0.60589606 0.49448314]\n",
      " [0.5806476  0.54047054]\n",
      " [0.68102497 0.15246256]\n",
      " [0.51514095 0.2175061 ]\n",
      " [0.5118381  0.21658407]\n",
      " [0.5261291  0.33806205]\n",
      " [0.44807762 0.19958344]\n",
      " [0.62760913 0.37302512]\n",
      " [0.5325686  0.18372199]\n",
      " [0.4005437  0.35973522]\n",
      " [0.5509425  0.3668159 ]\n",
      " [0.51391226 0.27903873]\n",
      " [0.6497081  0.32170844]\n",
      " [0.39169225 0.30582538]\n",
      " [0.50221986 0.22821361]\n",
      " [0.5419461  0.35271248]\n",
      " [0.56580526 0.27724594]\n",
      " [0.4696095  0.24961436]\n",
      " [0.5005321  0.29653352]\n",
      " [0.5265117  0.16048235]\n",
      " [0.62296623 0.2620243 ]\n",
      " [0.60137063 0.31239033]\n",
      " [0.37085715 0.34846392]\n",
      " [0.471915   0.22263984]\n",
      " [0.4666781  0.26197943]\n",
      " [0.45186234 0.2419259 ]\n",
      " [0.54630405 0.47341484]\n",
      " [0.5205968  0.20981549]\n",
      " [0.42845044 0.36349207]\n",
      " [0.7508402  0.25102594]\n",
      " [0.50342053 0.27964783]\n",
      " [0.6098832  0.30917156]\n",
      " [0.50754815 0.24671851]\n",
      " [0.5533327  0.318167  ]\n",
      " [0.4756772  0.1757038 ]\n",
      " [0.6192485  0.2356797 ]\n",
      " [0.66271245 0.3121458 ]\n",
      " [0.6940567  0.23677482]\n",
      " [0.5940391  0.42703965]\n",
      " [0.591586   0.29661372]\n",
      " [0.38737217 0.28088626]\n",
      " [0.8305819  0.24157096]\n",
      " [0.7212291  0.396073  ]\n",
      " [0.6112788  0.28326228]\n",
      " [0.5967935  0.22623414]\n",
      " [0.71324074 0.26018888]\n",
      " [0.2836188  0.2626185 ]\n",
      " [0.32089147 0.17301059]\n",
      " [0.56214994 0.34969   ]\n",
      " [0.43785957 0.19857764]\n",
      " [0.7327421  0.2691535 ]\n",
      " [0.55206335 0.25161687]\n",
      " [0.5903124  0.35656583]\n",
      " [0.57576644 0.22742376]\n",
      " [0.39594743 0.21323738]\n",
      " [0.5043444  0.24991792]\n",
      " [0.6433186  0.33101535]\n",
      " [0.45715272 0.36355427]\n",
      " [0.4944209  0.2752467 ]\n",
      " [0.5622404  0.25412965]\n",
      " [0.60000265 0.21802883]\n",
      " [0.47338685 0.22300379]\n",
      " [0.45850542 0.2265511 ]\n",
      " [0.26636043 0.34438735]\n",
      " [0.5409534  0.22559153]\n",
      " [0.39966702 0.29649466]\n",
      " [0.58400786 0.31024936]\n",
      " [0.4144262  0.17568298]\n",
      " [0.50733125 0.34161776]\n",
      " [0.6707977  0.36455184]\n",
      " [0.46498844 0.3253568 ]\n",
      " [0.41921332 0.33439934]\n",
      " [0.52644044 0.25651821]\n",
      " [0.45369008 0.24009115]\n",
      " [0.48956466 0.3006357 ]\n",
      " [0.65894324 0.30281115]\n",
      " [0.5281121  0.39797807]\n",
      " [0.49105015 0.41455334]\n",
      " [0.45922953 0.32858297]\n",
      " [0.3602857  0.27078316]\n",
      " [0.5977412  0.19052526]\n",
      " [0.44045582 0.21729353]\n",
      " [0.6369083  0.39774737]\n",
      " [0.51697236 0.32973075]\n",
      " [0.6112376  0.23969397]\n",
      " [0.67129487 0.33565256]\n",
      " [0.38702497 0.5243779 ]\n",
      " [0.5322082  0.19986606]\n",
      " [0.48537016 0.22984318]\n",
      " [0.7118619  0.22308113]\n",
      " [0.68233055 0.2828326 ]\n",
      " [0.5544144  0.24961032]\n",
      " [0.75970954 0.40858787]\n",
      " [0.5986745  0.3964016 ]\n",
      " [0.29957005 0.20937869]\n",
      " [0.75312763 0.31524488]\n",
      " [0.69296616 0.25407776]\n",
      " [0.66167223 0.18578881]\n",
      " [0.58228076 0.3465509 ]\n",
      " [0.45487502 0.31817064]\n",
      " [0.53067917 0.28625047]\n",
      " [0.35350275 0.36714813]\n",
      " [0.4471142  0.28486925]\n",
      " [0.4583581  0.26700586]\n",
      " [0.6326651  0.4523659 ]\n",
      " [0.38007239 0.34765732]\n",
      " [0.6238643  0.26171467]\n",
      " [0.62877893 0.23881854]\n",
      " [0.73376656 0.2087436 ]\n",
      " [0.5917631  0.2574036 ]\n",
      " [0.66396457 0.3276156 ]\n",
      " [0.4218723  0.34484804]\n",
      " [0.5008967  0.343996  ]\n",
      " [0.5954161  0.35183954]\n",
      " [0.52012414 0.33836946]\n",
      " [0.6892136  0.30910015]\n",
      " [0.44853416 0.20499128]\n",
      " [0.47322243 0.29714414]\n",
      " [0.428025   0.35868075]\n",
      " [0.4678444  0.47787935]\n",
      " [0.53179526 0.28715578]\n",
      " [0.3838797  0.37693098]\n",
      " [0.47307774 0.33568206]\n",
      " [0.531485   0.32612374]\n",
      " [0.45273417 0.21588472]\n",
      " [0.5281894  0.28506708]\n",
      " [0.6455295  0.2638783 ]\n",
      " [0.54461294 0.23693827]\n",
      " [0.71738565 0.30308953]\n",
      " [0.57518655 0.10921006]\n",
      " [0.74327964 0.37185672]\n",
      " [0.49902013 0.55018944]\n",
      " [0.6834748  0.39902163]\n",
      " [0.7838477  0.1857036 ]\n",
      " [0.5622897  0.29153523]\n",
      " [0.6087887  0.24527279]\n",
      " [0.7364113  0.16397797]\n",
      " [0.53511834 0.31004095]\n",
      " [0.5436853  0.4330146 ]\n",
      " [0.7261382  0.2575692 ]\n",
      " [0.3888685  0.347144  ]\n",
      " [0.6539912  0.29122412]\n",
      " [0.62079126 0.25532886]]\n",
      "TRUE : [[0. 0.]\n",
      " [0. 0.]\n",
      " [0. 0.]\n",
      " [0. 0.]\n",
      " [0. 0.]\n",
      " [0. 0.]\n",
      " [0. 0.]\n",
      " [0. 0.]\n",
      " [0. 0.]\n",
      " [0. 0.]\n",
      " [0. 0.]\n",
      " [0. 0.]\n",
      " [0. 0.]\n",
      " [0. 0.]\n",
      " [0. 0.]\n",
      " [0. 0.]\n",
      " [0. 0.]\n",
      " [0. 0.]\n",
      " [0. 0.]\n",
      " [0. 0.]\n",
      " [0. 0.]\n",
      " [0. 0.]\n",
      " [0. 0.]\n",
      " [0. 0.]\n",
      " [0. 0.]\n",
      " [0. 0.]\n",
      " [0. 0.]\n",
      " [0. 0.]\n",
      " [0. 0.]\n",
      " [0. 0.]\n",
      " [0. 0.]\n",
      " [0. 0.]\n",
      " [0. 0.]\n",
      " [0. 0.]\n",
      " [0. 0.]\n",
      " [0. 0.]\n",
      " [0. 0.]\n",
      " [0. 0.]\n",
      " [0. 0.]\n",
      " [0. 0.]\n",
      " [0. 0.]\n",
      " [0. 0.]\n",
      " [0. 0.]\n",
      " [0. 0.]\n",
      " [0. 0.]\n",
      " [0. 0.]\n",
      " [0. 0.]\n",
      " [0. 0.]\n",
      " [0. 0.]\n",
      " [0. 0.]\n",
      " [0. 0.]\n",
      " [0. 0.]\n",
      " [0. 0.]\n",
      " [0. 0.]\n",
      " [0. 0.]\n",
      " [0. 0.]\n",
      " [0. 0.]\n",
      " [0. 0.]\n",
      " [0. 0.]\n",
      " [0. 0.]\n",
      " [0. 0.]\n",
      " [0. 0.]\n",
      " [0. 0.]\n",
      " [0. 0.]\n",
      " [0. 0.]\n",
      " [0. 0.]\n",
      " [0. 0.]\n",
      " [0. 0.]\n",
      " [0. 0.]\n",
      " [0. 0.]\n",
      " [0. 0.]\n",
      " [0. 0.]\n",
      " [0. 0.]\n",
      " [0. 0.]\n",
      " [0. 0.]\n",
      " [0. 0.]\n",
      " [0. 0.]\n",
      " [0. 0.]\n",
      " [0. 0.]\n",
      " [0. 0.]\n",
      " [0. 0.]\n",
      " [0. 0.]\n",
      " [0. 0.]\n",
      " [0. 0.]\n",
      " [0. 0.]\n",
      " [0. 0.]\n",
      " [0. 0.]\n",
      " [0. 0.]\n",
      " [0. 0.]\n",
      " [0. 0.]]\n"
     ]
    }
   ],
   "source": [
    "print(\"PREDICTIONS :\", predicts[1])\n",
    "print(\"TRUE :\", tags_test)"
   ]
  },
  {
   "cell_type": "code",
   "execution_count": null,
   "metadata": {},
   "outputs": [],
   "source": [
    "# Useless for now\n",
    "tf.reset_default_graph()\n",
    "\n",
    "sess = tf.Session() \n",
    "\n",
    "last_checkpoint = \"./\" # >> check what argument was passed when running wavenets\n",
    "\n",
    "from tensorflow.python.tools.inspect_checkpoint import print_tensors_in_checkpoint_file\n",
    "latest_ckp = tf.train.latest_checkpoint(last_checkpoint)\n",
    "\n",
    "print_tensors_in_checkpoint_file(latest_ckp, all_tensors=True, tensor_name='')\n",
    "\n",
    "\n",
    "variables_to_restore_glob = {\n",
    "    var.name[:-2]: var for var in tf.global_variables()\n",
    "    if not ('state_buffer' in var.name or 'pointer' in var.name)}\n",
    "\n",
    "#variables_to_restore_loc = {\n",
    " #   var.name[:-2]: var for var in tf.local_variables()\n",
    "  #  if not ('state_buffer' in var.name or 'pointer' in var.name)}\n",
    "\n",
    "variables_to_restore = dict(variables_to_restore_glob)\n",
    "#variables_to_restore.update(variables_to_restore_loc)\n",
    "\n",
    "saver = tf.train.Saver(variables_to_restore)\n",
    "\n",
    "print('Restoring model from {}'.format(last_checkpoint))\n",
    "saver.restore(sess, last_checkpoint)\n",
    "\n",
    "\n",
    "    \n",
    "init = tf.group(tf.global_variables_initializer(), tf.local_variables_initializer())\n",
    "\n",
    "sess.run(init) \n",
    "\n",
    "predicts = sess.run([audios_test_tf, predictions, train_op, reduced_loss, auc])"
   ]
  },
  {
   "cell_type": "markdown",
   "metadata": {},
   "source": [
    "## Other structure (test)"
   ]
  },
  {
   "cell_type": "markdown",
   "metadata": {},
   "source": [
    "Following TF tutorial for custom training\n",
    "https://github.com/tensorflow/docs/blob/master/site/en/tutorials/eager/custom_training_walkthrough.ipynb"
   ]
  },
  {
   "cell_type": "code",
   "execution_count": null,
   "metadata": {},
   "outputs": [],
   "source": []
  }
 ],
 "metadata": {
  "kernelspec": {
   "display_name": "Python 3",
   "language": "python",
   "name": "python3"
  },
  "language_info": {
   "codemirror_mode": {
    "name": "ipython",
    "version": 3
   },
   "file_extension": ".py",
   "mimetype": "text/x-python",
   "name": "python",
   "nbconvert_exporter": "python",
   "pygments_lexer": "ipython3",
   "version": "3.5.2"
  }
 },
 "nbformat": 4,
 "nbformat_minor": 2
}
