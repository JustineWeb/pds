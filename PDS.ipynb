{
 "cells": [
  {
   "cell_type": "markdown",
   "metadata": {},
   "source": [
    "# MY NOTEBOOK"
   ]
  },
  {
   "cell_type": "markdown",
   "metadata": {},
   "source": [
    "## CONFIG"
   ]
  },
  {
   "cell_type": "code",
   "execution_count": 1,
   "metadata": {},
   "outputs": [],
   "source": [
    "%load_ext autoreload\n",
    "%autoreload\n",
    "%reload_ext autoreload"
   ]
  },
  {
   "cell_type": "markdown",
   "metadata": {},
   "source": [
    "### Imports"
   ]
  },
  {
   "cell_type": "code",
   "execution_count": 2,
   "metadata": {},
   "outputs": [],
   "source": [
    "# Is this useful ? >> I think yes to avaoid taking all ressources available from the 4 GPUs\n",
    "from tensorflow.python.client import device_lib\n",
    "#print(device_lib.list_local_devices())\n",
    "import os\n",
    "os.environ[\"CUDA_DEVICE_ORDER\"]=\"PCI_BUS_ID\"\n",
    "# The GPU id to use, usually either \"0\" or \"1\"\n",
    "os.environ[\"CUDA_VISIBLE_DEVICES\"]=\"3\""
   ]
  },
  {
   "cell_type": "code",
   "execution_count": 3,
   "metadata": {},
   "outputs": [],
   "source": [
    "#import os\n",
    "import fnmatch\n",
    "import re\n",
    "import random\n",
    "import time\n",
    "from datetime import datetime\n",
    "import sys\n",
    "import warnings\n",
    "\n",
    "import librosa\n",
    "import tensorflow as tf\n",
    "\n",
    "import pandas as pd\n",
    "import numpy as np\n",
    "from matplotlib import pyplot as plt \n",
    "\n",
    "import itertools\n",
    "\n",
    "#import progressbar\n",
    "from tqdm import tqdm_notebook as tqdm\n",
    "from time import sleep"
   ]
  },
  {
   "cell_type": "code",
   "execution_count": 4,
   "metadata": {},
   "outputs": [],
   "source": [
    "from models import *\n",
    "from tools import *\n",
    "from loading import * \n",
    "from labels_analysis import *\n",
    "from train import *"
   ]
  },
  {
   "cell_type": "markdown",
   "metadata": {},
   "source": [
    "## Constants"
   ]
  },
  {
   "cell_type": "markdown",
   "metadata": {},
   "source": [
    "### Local Machine"
   ]
  },
  {
   "cell_type": "code",
   "execution_count": 5,
   "metadata": {},
   "outputs": [],
   "source": [
    "MTT_DIR = \"../MTT/\"\n",
    "DATA_DIRECTORY = MTT_DIR + \"dataset/\"\n",
    "WAV_DIRECTORY = MTT_DIR + \"wav-dataset/\"\n",
    "\n",
    "# CSV containing song details (title, artist, id, mp3_path,...)\n",
    "CLIP_INFO_FINAL = \"clip_info_final.csv\"\n",
    "# CSV containg the labels (clip_id, labels, mp3_path)\n",
    "ANNOTATIONS_FINAL = \"annotations_final.csv\"\n",
    "# CSV : what is it useful for ?\n",
    "COMPARISONS_FINAL = \"comparisons_final.csv\"\n",
    "LABELS_FILE = MTT_DIR + ANNOTATIONS_FINAL\n",
    "\n",
    "LOGDIR = \"checkpoints/\"\n",
    "\n",
    "DIRECTORIES = {'mp3_dir':DATA_DIRECTORY,\n",
    "               'wav_dir':WAV_DIRECTORY,\n",
    "               'logdir':LOGDIR,\n",
    "               'labels_file':LABELS_FILE}"
   ]
  },
  {
   "cell_type": "markdown",
   "metadata": {},
   "source": [
    "### LTS2 Server"
   ]
  },
  {
   "cell_type": "markdown",
   "metadata": {},
   "source": [
    "This cell defines all the needed data paths, when running on LTS2 server.\n",
    "Don't run this cell if you are not running the jupyter notebook on the LTS2 server ! (will overwrite the variables defined on the cell above).\n",
    "\n",
    "You can either create a cell with your own paths, or modify the cell above with your custom paths."
   ]
  },
  {
   "cell_type": "code",
   "execution_count": 6,
   "metadata": {},
   "outputs": [],
   "source": [
    "MTT_DIR = \"/mnt/scratch/students/jjgweber-MagnaTagATune/\"\n",
    "DATA_DIRECTORY = MTT_DIR + \"dataset/\"\n",
    "WAV_DIRECTORY = MTT_DIR + \"wav-dataset/\"\n",
    "\n",
    "# CSV containg the labels (clip_id, labels, mp3_path)\n",
    "ANNOTATIONS_FINAL = \"annotations_final.csv\"\n",
    "\n",
    "LABELS_FILE = MTT_DIR + ANNOTATIONS_FINAL\n",
    "\n",
    "# need to create this directory on the server !!\n",
    "LOGDIR = \"checkpoints/\"\n",
    "\n",
    "DIRECTORIES = {'mp3_dir':DATA_DIRECTORY,\n",
    "               'wav_dir':WAV_DIRECTORY,\n",
    "               'logdir':LOGDIR,\n",
    "               'labels_file':LABELS_FILE}"
   ]
  },
  {
   "cell_type": "markdown",
   "metadata": {},
   "source": [
    "### Data"
   ]
  },
  {
   "cell_type": "code",
   "execution_count": 7,
   "metadata": {},
   "outputs": [],
   "source": [
    "FILE_NB = 25880 #25863\n",
    "FILE_LENGTH = 465984\n",
    "\n",
    "# 465984 = 2 × 2 × 2 × 2 × 2 × 2 × 3 × 3 × 809\n",
    "# useful for batches > for now divide by 9 (instead of 10)\n",
    "\n",
    "BATCH_NB = 9\n",
    "BATCH_SIZE = int(FILE_LENGTH/BATCH_NB)\n",
    "SAMPLE_SIZE = 0\n",
    "SAMPLE_RATE = 16000\n",
    "RECEPTIVE_FIELD = 0\n",
    "\n",
    "TRAIN_DIR = \"0123456789abcde\"\n",
    "TEST_DIR =\"f\"\n",
    "\n",
    "BASIC_CONFIG ={'numOutputNeurons':500}\n",
    "LEARNING_RATE = 0.001\n",
    "\n"
   ]
  },
  {
   "cell_type": "code",
   "execution_count": 8,
   "metadata": {},
   "outputs": [],
   "source": [
    "# Variables which are often modified to test the algorithm\n",
    "NB_SONGS = 20\n",
    "GROUP_SIZE = 20\n",
    "EPOCHS = 16 # check in paper\n",
    "LABELS_NAME = ['guitar', 'techno']\n",
    "NB_LABELS = len(LABELS_NAME)\n",
    "\n",
    "# use for post-processing > merge predictions of the 9 pieces by majority vote\n",
    "threshold_tag = 0.7\n",
    "majority = 9"
   ]
  },
  {
   "cell_type": "code",
   "execution_count": 47,
   "metadata": {},
   "outputs": [],
   "source": [
    "BASIC_CONFIG = {'numOutputNeurons':500,\n",
    "               'nb_batch':9,\n",
    "               'batch_size':int(FILE_LENGTH/BATCH_NB),\n",
    "               'tr_sample_size':60,\n",
    "               'tr_group_size':20,\n",
    "               'sample_rate':None,\n",
    "               'train_dir':'0123456789abc',\n",
    "               'test_dir':'def',\n",
    "               'te_sample_size':60,\n",
    "               'te_group_size':20,\n",
    "               'learning_rate':0.001,\n",
    "               'epochs':15,\n",
    "               'labels_name':['piano', 'rock'],\n",
    "               'nb_labels':2,\n",
    "               'file_type':'mp3',\n",
    "               'max_checkpoints':5,\n",
    "               'checkpoint_every':50}"
   ]
  },
  {
   "cell_type": "markdown",
   "metadata": {},
   "source": [
    "\n",
    "## Prediction labels"
   ]
  },
  {
   "cell_type": "markdown",
   "metadata": {},
   "source": [
    "### Load and clean"
   ]
  },
  {
   "cell_type": "code",
   "execution_count": 10,
   "metadata": {},
   "outputs": [
    {
     "name": "stderr",
     "output_type": "stream",
     "text": [
      "/home/jjgweber/pds/loading.py:221: ParserWarning: Falling back to the 'python' engine because the 'c' engine does not support regex separators (separators > 1 char and different from '\\s+' are interpreted as regex); you can avoid this warning by specifying engine='python'.\n",
      "  labels = pd.read_csv(labels_path, sep = '\"\\t\"')\n"
     ]
    },
    {
     "name": "stdout",
     "output_type": "stream",
     "text": [
      "Loading csv file : 2.72\n"
     ]
    }
   ],
   "source": [
    "labels, header = load_and_clean_labels(LABELS_FILE)\n",
    "#labels.head(5)"
   ]
  },
  {
   "cell_type": "markdown",
   "metadata": {},
   "source": [
    "### Analyse the dataset"
   ]
  },
  {
   "cell_type": "code",
   "execution_count": 11,
   "metadata": {},
   "outputs": [
    {
     "name": "stdout",
     "output_type": "stream",
     "text": [
      "Number of songs :  25863\n",
      "Number of labels :  188\n",
      "Max number of songs tagged with the same label :  4852\n",
      "Max number of labels for a single song :  27\n"
     ]
    }
   ],
   "source": [
    "nb_labels_per_song, nb_song_per_label, label_header_by_freq = label_stats(labels, header, plot=False)"
   ]
  },
  {
   "cell_type": "code",
   "execution_count": 12,
   "metadata": {},
   "outputs": [],
   "source": [
    "best_10_labels = label_header_by_freq[:10]\n",
    "best_30_labels = label_header_by_freq[:30]"
   ]
  },
  {
   "cell_type": "markdown",
   "metadata": {},
   "source": [
    "### Co-occurence matrix"
   ]
  },
  {
   "cell_type": "code",
   "execution_count": 13,
   "metadata": {},
   "outputs": [
    {
     "name": "stdout",
     "output_type": "stream",
     "text": [
      "\n",
      "label_header_with_count: ['guitar (4852)', 'classical (4272)', 'slow (3547)', 'techno (2954)', 'strings (2729)', 'drums (2598)', 'electronic (2519)', 'rock (2371)', 'fast (2306)', 'piano (2056)']\n"
     ]
    },
    {
     "data": {
      "image/png": "[encoded data removed]",
      "text/plain": [
       "<Figure size 1133.86x566.929 with 2 Axes>"
      ]
     },
     "metadata": {
      "needs_background": "light"
     },
     "output_type": "display_data"
    }
   ],
   "source": [
    "chosen_labels = best_10_labels\n",
    "check_overlaps(chosen_labels, labels.loc[:,chosen_labels].values.astype(int))"
   ]
  },
  {
   "cell_type": "markdown",
   "metadata": {},
   "source": [
    "## Load and format mp3 data"
   ]
  },
  {
   "cell_type": "markdown",
   "metadata": {},
   "source": [
    "## Neural network"
   ]
  },
  {
   "cell_type": "markdown",
   "metadata": {},
   "source": [
    "### Training"
   ]
  },
  {
   "cell_type": "code",
   "execution_count": 14,
   "metadata": {},
   "outputs": [],
   "source": [
    "# training variables \n",
    "TRAIN_DIR = \"0123456789abc\"\n",
    "TEST_DIR = \"def\"\n",
    "EPOCHS = 10\n",
    "BATCH_NB = 9\n",
    "BATCH_SIZE = int(FILE_LENGTH/BATCH_NB)\n",
    "#LOGDIR =\n",
    "#LABELS_NAME = ['guitar', 'techno']\n",
    "LABELS_NAME = ['piano', 'rock']\n",
    "NB_LABELS = len(LABELS_NAME)\n",
    "LEARNING_RATE = 0.001\n",
    "GROUP_SIZE = 10\n",
    "SAMPLE_SIZE = 50"
   ]
  },
  {
   "cell_type": "code",
   "execution_count": 15,
   "metadata": {},
   "outputs": [],
   "source": [
    "data_dir, pattern, file_type = return_params_mp3_wav(\"mp3\", DATA_DIRECTORY, WAV_DIRECTORY)\n",
    "# also need labels but computed above"
   ]
  },
  {
   "cell_type": "code",
   "execution_count": 16,
   "metadata": {},
   "outputs": [],
   "source": [
    "# FROM WAVENETS\n",
    "def save(saver, sess, logdir, step):\n",
    "    model_name = 'model.ckpt'\n",
    "    checkpoint_path = os.path.join(logdir, model_name)\n",
    "    print('Storing checkpoint to {} ...'.format(logdir), end=\"\")\n",
    "    sys.stdout.flush()\n",
    "\n",
    "    if not os.path.exists(logdir):\n",
    "        os.makedirs(logdir)\n",
    "\n",
    "    saver.save(sess, checkpoint_path, global_step=step)\n",
    "    print(' Done.')\n",
    "    \n",
    "\n",
    "def get_default_logdir(logdir_root):\n",
    "    STARTED_DATESTRING = \"{0:%Y-%m-%dT%H-%M-%S}\".format(datetime.now())\n",
    "    logdir = os.path.join(logdir_root, 'train', STARTED_DATESTRING)\n",
    "    return logdir\n",
    "\n",
    "\n",
    "def load(saver, sess, logdir):\n",
    "    print(\"Trying to restore saved checkpoints from {} ...\".format(logdir),\n",
    "          end=\"\")\n",
    "\n",
    "    ckpt = tf.train.get_checkpoint_state(logdir)\n",
    "    if ckpt:\n",
    "        print(\"  Checkpoint found: {}\".format(ckpt.model_checkpoint_path))\n",
    "        global_step = int(ckpt.model_checkpoint_path\n",
    "                          .split('/')[-1]\n",
    "                          .split('-')[-1])\n",
    "        print(\"  Global step was: {}\".format(global_step))\n",
    "        print(\"  Restoring...\", end=\"\")\n",
    "        saver.restore(sess, ckpt.model_checkpoint_path)\n",
    "        print(\" Done.\")\n",
    "        return global_step\n",
    "    else:\n",
    "        print(\" No checkpoint found.\")\n",
    "        return None"
   ]
  },
  {
   "cell_type": "code",
   "execution_count": 17,
   "metadata": {},
   "outputs": [],
   "source": [
    "def initialize_tf_model(input_shape, nb_labels, nb_batch, batch_size, learning_rate, is_training=True) :\n",
    "    print(\"Initialize tf model ...\")\n",
    "    tf.reset_default_graph()\n",
    "\n",
    "    x = tf.placeholder(tf.float32, shape=(input_shape*nb_batch, batch_size, 1))\n",
    "    y = tf.placeholder(tf.float32, shape=(input_shape*nb_batch, nb_labels))\n",
    "\n",
    "    net = build_model(x, is_training=is_training, config=BASIC_CONFIG) \n",
    "    predictions = tf.layers.dense(net, nb_labels, activation=tf.sigmoid)\n",
    "    loss = tf.nn.sigmoid_cross_entropy_with_logits(labels = y, logits = predictions)\n",
    "    reduced_loss = tf.reduce_mean(loss)\n",
    "    train_op = tf.train.AdamOptimizer(learning_rate=learning_rate).minimize(reduced_loss)\n",
    "    auc = tf.metrics.auc(labels = y, predictions=predictions)\n",
    "    \n",
    "    # Saver for storing checkpoints of the model. (Wavenets)\n",
    "    saver = tf.train.Saver(var_list=tf.global_variables())\n",
    "    \n",
    "    return x, y, net, predictions, loss, reduced_loss,  train_op, auc, saver"
   ]
  },
  {
   "cell_type": "code",
   "execution_count": 33,
   "metadata": {},
   "outputs": [],
   "source": [
    "def train_restore(config, directories, labels, restore=False, restore_from=None) : \n",
    "    \n",
    "    # EXTRACT CONFIG VARIABLES\n",
    "    #data_dir = directories['data_dir']\n",
    "    logdir_root = directories['logdir']\n",
    "    \n",
    "    group_size = config['tr_group_size']\n",
    "    sample_size = config['tr_sample_size']\n",
    "    file_type = config['file_type']\n",
    "    train_dir = config['train_dir']\n",
    "    epochs = config['epochs']\n",
    "    labels_name = config['labels_name']\n",
    "    nb_labels = config['nb_labels']\n",
    "    batch_size = config['batch_size']\n",
    "    nb_batch = config['nb_batch']\n",
    "    learning_rate = config['learning_rate']\n",
    "    \n",
    "    # PARAMETER CHECK\n",
    "    if restore and restore_from is None :\n",
    "        raise ValueError(\"You need to specify the checkpoint to restore from\"\n",
    "                         \"if restore is True.\")\n",
    "    \n",
    "    # CREATE CHECKPOINT DIRECTORY\n",
    "    logdir = get_default_logdir(logdir_root)\n",
    "    print('Using default logdir: {}'.format(logdir))            \n",
    "            \n",
    "    # LOSS AND AUC RESULTS\n",
    "    train_loss_results = []\n",
    "    train_auc_results = []\n",
    "\n",
    "    # GET NAME OF FILES FOR SONGS TO LOAD\n",
    "    # use find_files_group_select which filters songs \n",
    "    # which have at least one of the labels and create groups\n",
    "    files_by_group = find_files_group_select(data_dir, labels, labels_name, group_size, sample=sample_size, \\\n",
    "                                             pattern=pattern, sub_dir=train_dir)\n",
    "    \n",
    "    n_groups = len(files_by_group)\n",
    "\n",
    "    # INITIALIZE TF MODEL (VARIABLES)\n",
    "    x, y, net, predictions, loss, reduced_loss, \\\n",
    "    train_op, auc, _ = initialize_tf_model(len(files_by_group[0]), nb_labels, nb_batch,\\\n",
    "                                               batch_size, learning_rate)\n",
    "    \n",
    "    # TRAINING\n",
    "    print(\"Start training...\")\n",
    "\n",
    "    start = time.time()\n",
    "\n",
    "    with tf.Session() as sess:\n",
    "\n",
    "        # INITIALIZE SESSION AND ADAPT IF RESTORING\n",
    "        init = tf.group(tf.global_variables_initializer(), tf.local_variables_initializer())\n",
    "\n",
    "        sess.run(init)\n",
    "            \n",
    "        # Saver for storing checkpoints of the model.\n",
    "        saver = tf.train.Saver(var_list=tf.global_variables(), max_to_keep=config['max_checkpoints'])\n",
    "\n",
    "        last_saved_step = -1\n",
    "        # The first training step will be saved_global_step + 1,\n",
    "        # therefore we put -1 here for new or overwritten trainings.\n",
    "        saved_global_step = -1        \n",
    "        \n",
    "        if restore :\n",
    "            try:\n",
    "                # compute number of epochs left\n",
    "                saved_global_step = load(saver, sess, restore_from)\n",
    "                last_saved_step = saved_global_step\n",
    "\n",
    "            except:\n",
    "                print(\"Something went wrong while restoring checkpoint. \"\n",
    "                      \"We will terminate training to avoid accidentally overwriting \"\n",
    "                      \"the previous model.\")\n",
    "                raise\n",
    "\n",
    "\n",
    "        # START TRAINING\n",
    "        epoch = 0        \n",
    "        try:\n",
    "            for epoch in tqdm(range(saved_global_step + 1,  config['epochs'])):\n",
    "\n",
    "                t0_epoch = time.time()\n",
    "                loss_values = []\n",
    "                auc_results = []\n",
    "\n",
    "                # Feed songs to the network group by group\n",
    "                for count, g in enumerate(files_by_group) :\n",
    "                    \n",
    "                    # Load audio and labels\n",
    "                    tload0 = time.time()\n",
    "                    audios, tags = load_audio_label_aux(labels, g, len(data_dir), labels_name=labels_name, \\\n",
    "                            nb_labels=nb_labels, file_type=file_type, batch_size=batch_size, nb_batch=nb_batch)\n",
    "\n",
    "                    tload1 = time.time()\n",
    "                    if count==0 :\n",
    "                        print(\">> Total loading time : {:.2f} sec\".format(tload1-tload0))\n",
    "\n",
    "                    # Feed to network and get metrics\n",
    "                    predict, _, loss_value, auc_score = sess.run([predictions, train_op, reduced_loss, auc],\\\n",
    "                                                                 feed_dict={x: audios, y: tags})\n",
    "\n",
    "                    auc_result, update_op = auc_score\n",
    "\n",
    "                    # Save loss and auc values\n",
    "                    loss_values.append(loss_value)\n",
    "                    auc_results.append(auc_result)\n",
    "\n",
    "                    if (count % 20) == 0 :\n",
    "                        print(\"Group {} done. {} left.\".format(count, n_groups-count-1))\n",
    "\n",
    "                        \n",
    "                train_loss_results.append(loss_values)\n",
    "                train_auc_results.append(auc_results)\n",
    "                \n",
    "                dur = time.time()-t0_epoch\n",
    "\n",
    "                print(\"Epoch: {:3}, Time (in sec): {:.2f}, Loss: {:.4f}, AUC : {:.4f}\"\\\n",
    "                      .format(epoch, dur, loss_value, auc_result))\n",
    "                print()\n",
    "\n",
    "                # Save network state periodically\n",
    "                if epoch % config['checkpoint_every'] == 0:\n",
    "                    save(saver, sess, logdir, epoch)\n",
    "                    last_saved_step = epoch\n",
    "\n",
    "        except KeyboardInterrupt:\n",
    "            # Introduce a line break after ^C is displayed so save message\n",
    "            # is on its own line.\n",
    "            print()\n",
    "\n",
    "        finally:\n",
    "            if epoch > last_saved_step:\n",
    "                save(saver, sess, logdir, epoch)\n",
    "            \n",
    "            duration2 = time.time()-start\n",
    "            print(\"Total time: {:.2f} minutes.\".format(duration2/60))\n",
    "\n",
    "    return train_loss_results, train_auc_results"
   ]
  },
  {
   "cell_type": "code",
   "execution_count": 40,
   "metadata": {},
   "outputs": [],
   "source": [
    "def flatten_loss_auc_results(train_loss_results, train_auc_results):\n",
    "    return [e for l in train_loss_results for e in l], [e for l in train_auc_results for e in l]"
   ]
  },
  {
   "cell_type": "code",
   "execution_count": 30,
   "metadata": {},
   "outputs": [],
   "source": [
    "def average_loss_auc_results(train_loss_results, train_auc_results):\n",
    "    return [sum(l) / len(l) for l in train_loss_results], [sum(l) / len(l) for l in train_auc_results]"
   ]
  },
  {
   "cell_type": "code",
   "execution_count": 31,
   "metadata": {
    "scrolled": false
   },
   "outputs": [
    {
     "name": "stdout",
     "output_type": "stream",
     "text": [
      "Using default logdir: checkpoints/train/2019-06-02T17-42-38\n",
      "All labels : 25863 songs >>> Selected for given labels : 4387. (test or train sets are note taken    into account here)\n",
      "Initialize tf model ...\n",
      "Start training...\n"
     ]
    },
    {
     "data": {
      "application/vnd.jupyter.widget-view+json": {
       "model_id": "147448a47dca455d971c0d995e2a6eb4",
       "version_major": 2,
       "version_minor": 0
      },
      "text/plain": [
       "HBox(children=(IntProgress(value=0, max=10), HTML(value='')))"
      ]
     },
     "metadata": {},
     "output_type": "display_data"
    },
    {
     "name": "stdout",
     "output_type": "stream",
     "text": [
      ">> Total loading time : 8.24 sec\n",
      "Group 0 done. 2 left.\n",
      "Epoch:   0, Time (in sec): 27.60, Loss: 0.5739, AUC : 0.7505\n",
      "\n",
      "Storing checkpoint to checkpoints/train/2019-06-02T17-42-38 ... Done.\n",
      ">> Total loading time : 8.68 sec\n",
      "Group 0 done. 2 left.\n",
      "Epoch:   1, Time (in sec): 27.40, Loss: 0.5558, AUC : 0.9019\n",
      "\n",
      ">> Total loading time : 8.44 sec\n",
      "Group 0 done. 2 left.\n",
      "Epoch:   2, Time (in sec): 27.11, Loss: 0.5416, AUC : 0.9243\n",
      "\n",
      ">> Total loading time : 8.57 sec\n",
      "Group 0 done. 2 left.\n",
      "Epoch:   3, Time (in sec): 27.08, Loss: 0.5326, AUC : 0.9364\n",
      "\n",
      ">> Total loading time : 8.71 sec\n",
      "Group 0 done. 2 left.\n",
      "Epoch:   4, Time (in sec): 27.78, Loss: 0.5495, AUC : 0.9437\n",
      "\n",
      ">> Total loading time : 8.22 sec\n",
      "Group 0 done. 2 left.\n",
      "Epoch:   5, Time (in sec): 26.68, Loss: 0.5410, AUC : 0.9458\n",
      "\n",
      ">> Total loading time : 8.74 sec\n",
      "Group 0 done. 2 left.\n",
      "Epoch:   6, Time (in sec): 27.25, Loss: 0.5558, AUC : 0.9494\n",
      "\n",
      ">> Total loading time : 8.81 sec\n",
      "Group 0 done. 2 left.\n",
      "Epoch:   7, Time (in sec): 27.44, Loss: 0.5343, AUC : 0.9522\n",
      "\n",
      ">> Total loading time : 8.79 sec\n",
      "Group 0 done. 2 left.\n",
      "Epoch:   8, Time (in sec): 27.33, Loss: 0.5450, AUC : 0.9555\n",
      "\n",
      ">> Total loading time : 8.59 sec\n",
      "Group 0 done. 2 left.\n",
      "Epoch:   9, Time (in sec): 27.08, Loss: 0.5412, AUC : 0.9571\n",
      "\n",
      "Storing checkpoint to checkpoints/train/2019-06-02T17-42-38 ... Done.\n",
      "Total time: 274.31 sec.\n"
     ]
    }
   ],
   "source": [
    "train_loss_results, train_auc_results = train_restore(BASIC_CONFIG, DIRECTORIES, labels)"
   ]
  },
  {
   "cell_type": "code",
   "execution_count": 41,
   "metadata": {},
   "outputs": [
    {
     "data": {
      "image/png": "[encoded data removed]",
      "text/plain": [
       "<Figure size 864x576 with 2 Axes>"
      ]
     },
     "metadata": {
      "needs_background": "light"
     },
     "output_type": "display_data"
    }
   ],
   "source": [
    "flat = flatten_loss_auc_results(train_loss_results, train_auc_results)\n",
    "plot_auc_loss(flat[0], flat[1])"
   ]
  },
  {
   "cell_type": "code",
   "execution_count": 38,
   "metadata": {},
   "outputs": [
    {
     "data": {
      "image/png": "[encoded data removed]",
      "text/plain": [
       "<Figure size 864x576 with 2 Axes>"
      ]
     },
     "metadata": {
      "needs_background": "light"
     },
     "output_type": "display_data"
    }
   ],
   "source": [
    "avg = average_loss_auc_results(train_loss_results, train_auc_results)\n",
    "plot_auc_loss(avg[0], avg[1])"
   ]
  },
  {
   "cell_type": "code",
   "execution_count": 43,
   "metadata": {},
   "outputs": [
    {
     "name": "stdout",
     "output_type": "stream",
     "text": [
      "Using default logdir: checkpoints/train/2019-06-02T17-55-50\n",
      "All labels : 25863 songs >>> Selected for given labels : 4387. (test or train sets are note taken    into account here)\n",
      "Initialize tf model ...\n",
      "Start training...\n",
      "Trying to restore saved checkpoints from checkpoints/train/2019-06-02T17-42-38 ...  Checkpoint found: checkpoints/train/2019-06-02T17-42-38/model.ckpt-9\n",
      "  Global step was: 9\n",
      "  Restoring...INFO:tensorflow:Restoring parameters from checkpoints/train/2019-06-02T17-42-38/model.ckpt-9\n",
      " Done.\n"
     ]
    },
    {
     "data": {
      "application/vnd.jupyter.widget-view+json": {
       "model_id": "6c5dc6e6e2324333933cc8de6783d89b",
       "version_major": 2,
       "version_minor": 0
      },
      "text/plain": [
       "HBox(children=(IntProgress(value=0, max=5), HTML(value='')))"
      ]
     },
     "metadata": {},
     "output_type": "display_data"
    },
    {
     "name": "stdout",
     "output_type": "stream",
     "text": [
      ">> Total loading time : 8.34 sec\n",
      "Group 0 done. 2 left.\n",
      "Epoch:  10, Time (in sec): 27.37, Loss: 0.5336, AUC : 0.9785\n",
      "\n",
      ">> Total loading time : 8.34 sec\n",
      "Group 0 done. 2 left.\n",
      "Epoch:  11, Time (in sec): 26.94, Loss: 0.5386, AUC : 0.9726\n",
      "\n",
      ">> Total loading time : 8.63 sec\n",
      "Group 0 done. 2 left.\n",
      "Epoch:  12, Time (in sec): 27.39, Loss: 0.5272, AUC : 0.9711\n",
      "\n",
      ">> Total loading time : 8.06 sec\n",
      "Group 0 done. 2 left.\n",
      "Epoch:  13, Time (in sec): 26.05, Loss: 0.5300, AUC : 0.9717\n",
      "\n",
      ">> Total loading time : 8.42 sec\n",
      "Group 0 done. 2 left.\n",
      "Epoch:  14, Time (in sec): 27.07, Loss: 0.5279, AUC : 0.9721\n",
      "\n",
      "Storing checkpoint to checkpoints/train/2019-06-02T17-55-50 ... Done.\n",
      "Total time: 0.38 hours.\n"
     ]
    }
   ],
   "source": [
    "train_loss_results2, train_auc_results2 = train_restore(BASIC_CONFIG, DIRECTORIES, labels, restore=True, \\\n",
    "                                                       restore_from = \"checkpoints/train/2019-06-02T17-42-38\")"
   ]
  },
  {
   "cell_type": "code",
   "execution_count": null,
   "metadata": {},
   "outputs": [],
   "source": [
    "def train(data_dir, group_size, sample_size, file_type, train_dir, epochs, \\\n",
    "          labels, labels_name, nb_labels, batch_size, nb_batch, logdir, learning_rate) :\n",
    "    \n",
    "    pattern = \"\"\n",
    "    if file_type == \"mp3\" :\n",
    "        pattern = \"*.mp3\"\n",
    "    else :\n",
    "        if file_type == \"wav\" :\n",
    "            pattern = \"*.wav\"\n",
    "        else :\n",
    "            print(\"Argument should be either \\\"mp3\\\" or \\\"wav\\\".\")\n",
    "        \n",
    "    # keep results for plotting\n",
    "    train_loss_results = []\n",
    "    train_auc_results = []\n",
    "\n",
    "\n",
    "    files_by_group = find_files_group_select(data_dir, labels, labels_name, group_size, sample=sample_size, \\\n",
    "                                             pattern=pattern, sub_dir=train_dir)\n",
    "    \n",
    "    n_groups = len(files_by_group)\n",
    "    #print(data_dir, labels, labels_name, group_size)\n",
    "\n",
    "    x, y, net, predictions, loss, reduced_loss, \\\n",
    "    train_op, auc, saver = initialize_tf_model(len(files_by_group[0]), nb_labels, nb_batch,\\\n",
    "                                               batch_size, learning_rate)\n",
    "    print(\"Start training...\")\n",
    "\n",
    "    start = time.time()\n",
    "\n",
    "    with tf.Session() as sess:\n",
    "\n",
    "        init = tf.group(tf.global_variables_initializer(), tf.local_variables_initializer())\n",
    "\n",
    "        sess.run(init)\n",
    "\n",
    "        try :\n",
    "            # Go through the whole DS at each EPOCH\n",
    "            for epoch in tqdm(range(epochs)):\n",
    "\n",
    "                t0_epoch = time.time()\n",
    "\n",
    "                # Group by group\n",
    "                for count, g in enumerate(files_by_group) :\n",
    "\n",
    "                    # Load audio and labels\n",
    "                    tload0 = time.time()\n",
    "                    audios, tags = load_audio_label_aux(labels, g, len(data_dir), labels_name=labels_name, \\\n",
    "                            nb_labels=nb_labels, file_type=file_type, batch_size=batch_size, nb_batch=nb_batch)\n",
    "\n",
    "                    tload1 = time.time()\n",
    "\n",
    "                    if count==0 :\n",
    "                        print(\">> Total loading time : {:.2f} sec\".format(tload1-tload0))\n",
    "                    #audio_tf = tf.convert_to_tensor(audios, np.float32)\n",
    "\n",
    "                    # add check to verify if there is something to restore\n",
    "                    #saver.restore(sess, LOGDIR)\n",
    "\n",
    "                    predict, _, loss_value, auc_score = sess.run([predictions, train_op, reduced_loss, auc],\\\n",
    "                                                                 feed_dict={x: audios, y: tags})\n",
    "\n",
    "                    auc_result, update_op = auc_score\n",
    "\n",
    "                    saver.save(sess, logdir)\n",
    "\n",
    "\n",
    "                    train_loss_results.append(loss_value)\n",
    "                    train_auc_results.append(auc_result)\n",
    "\n",
    "                    if (count % 20) == 0 :\n",
    "                        print(\"Group {} done. {} left.\".format(count, n_groups-count-1))\n",
    "\n",
    "\n",
    "                t1_epoch = time.time()\n",
    "\n",
    "                dur = t1_epoch-t0_epoch\n",
    "\n",
    "                print(\"Iter: {:3}, Time (in sec): {:.2f}, Loss: {:.4f}, AUC : {:.4f}\"\\\n",
    "                      .format(epoch, dur, loss_value, auc_result))\n",
    "                print()\n",
    "            \n",
    "            \n",
    "        except KeyboardInterrupt:\n",
    "            # Introduce a line break after ^C is displayed so save message\n",
    "            # is on its own line.\n",
    "            print()\n",
    "\n",
    "        finally:\n",
    "            #if step > last_saved_step:\n",
    "             #   save(saver, sess, logdir, step)\n",
    "            #coord.request_stop()\n",
    "            #coord.join(threads)\n",
    "            \n",
    "            end = time.time()\n",
    "            duration2 = end-start\n",
    "            print(\"Total time: {:.2f} sec.\".format(duration2))\n",
    "            \n",
    "            return train_loss_results, train_auc_results\n",
    "\n",
    "\n",
    "    return train_loss_results, train_auc_results"
   ]
  },
  {
   "cell_type": "code",
   "execution_count": null,
   "metadata": {},
   "outputs": [],
   "source": [
    "def train_all(group_size) :\n",
    "    train_loss_results, train_auc_results = train(data_dir, group_size, None, file_type,\\\n",
    "                                                  TRAIN_DIR, EPOCHS, labels, LABELS_NAME, NB_LABELS, \\\n",
    "                                                  BATCH_SIZE, BATCH_NB, LOGDIR, LEARNING_RATE)\n",
    "    return train_loss_results, train_auc_results"
   ]
  },
  {
   "cell_type": "code",
   "execution_count": null,
   "metadata": {},
   "outputs": [],
   "source": [
    "def train_input_shape(group_size, sample_size) :\n",
    "    train_loss_results, train_auc_results = train(data_dir, group_size, sample_size, file_type,\\\n",
    "                                                  TRAIN_DIR, EPOCHS, labels, LABELS_NAME, NB_LABELS, \\\n",
    "                                                  BATCH_SIZE, BATCH_NB, LOGDIR, LEARNING_RATE)\n",
    "    return train_loss_results, train_auc_results"
   ]
  },
  {
   "cell_type": "code",
   "execution_count": null,
   "metadata": {},
   "outputs": [],
   "source": [
    "def train_labels_choice(labels_name, nb_labels) :\n",
    "    train_loss_results, train_auc_results = train(data_dir, GROUP_SIZE, SAMPLE_SIZE, file_type, \\\n",
    "                                                  TRAIN_DIR, EPOCHS, labels, labels_name, nb_labels, \\\n",
    "                                                  BATCH_SIZE, BATCH_NB, LOGDIR, LEARNING_RATE)\n",
    "    return train_loss_results, train_auc_results"
   ]
  },
  {
   "cell_type": "code",
   "execution_count": null,
   "metadata": {},
   "outputs": [],
   "source": [
    "def train_learning_rate(l_rate) :\n",
    "    train_loss_results, train_auc_results = train(data_dir, group_size, sample_size, file_type, \\\n",
    "                                                  TRAIN_DIR, EPOCHS, labels, labels_name, nb_labels, \\\n",
    "                                                  BATCH_SIZE, BATCH_NB, LOGDIR, l_rate)\n",
    "    return train_loss_results, train_auc_results"
   ]
  },
  {
   "cell_type": "code",
   "execution_count": null,
   "metadata": {
    "scrolled": true
   },
   "outputs": [],
   "source": [
    "train_loss_results, train_auc_results = train_input_shape(10, 60)"
   ]
  },
  {
   "cell_type": "code",
   "execution_count": null,
   "metadata": {},
   "outputs": [],
   "source": [
    "train_loss_results, train_auc_results = train_all(20)"
   ]
  },
  {
   "cell_type": "code",
   "execution_count": null,
   "metadata": {},
   "outputs": [],
   "source": [
    "plot_auc_loss(train_loss_results, train_auc_results)"
   ]
  },
  {
   "cell_type": "markdown",
   "metadata": {},
   "source": [
    "## Testing"
   ]
  },
  {
   "cell_type": "code",
   "execution_count": 66,
   "metadata": {},
   "outputs": [],
   "source": [
    "# Validation = Testing on the train set\n",
    "def validation(config, directories, labels, model_ckpt) : \n",
    "    \n",
    "    # EXTRACT CONFIG VARIABLES\n",
    "    #data_dir = directories['data_dir']\n",
    "    logdir_root = directories['logdir']\n",
    "    \n",
    "    group_size = config['te_group_size']\n",
    "    sample_size = config['te_sample_size']\n",
    "    file_type = config['file_type']\n",
    "    test_dir = config['train_dir']\n",
    "    labels_name = config['labels_name']\n",
    "    nb_labels = config['nb_labels']\n",
    "    batch_size = config['batch_size']\n",
    "    nb_batch = config['nb_batch'] \n",
    "    learning_rate = config['learning_rate']\n",
    "            \n",
    "    # LOSS AND AUC RESULTS\n",
    "    test_loss_results = []\n",
    "    test_auc_results = []\n",
    "\n",
    "    # GET NAME OF FILES FOR SONGS TO LOAD\n",
    "    # use find_files_group_select which filters songs \n",
    "    # which have at least one of the labels and create groups\n",
    "    files_by_group = find_files_group_select(data_dir, labels, labels_name, group_size, sample=sample_size, \\\n",
    "                                             pattern=pattern, sub_dir=test_dir)\n",
    "    \n",
    "    n_groups = len(files_by_group)\n",
    "\n",
    "    # INITIALIZE TF MODEL (VARIABLES)\n",
    "    x, y, net, predictions, loss, reduced_loss, train_op, \\\n",
    "    auc, _ = initialize_tf_model(len(test_files[0]), nb_labels, nb_batch,\\\n",
    "                                               batch_size, learning_rate, is_training=False)\n",
    "    \n",
    "    variables_to_restore = { \n",
    "        var.name[:-2]: var for var in tf.global_variables() \n",
    "        if not ('state_buffer' in var.name or 'pointer' in var.name)}\n",
    "\n",
    "    # Add ops to save and restore all the variables.\n",
    "    saver = tf.train.Saver(variables_to_restore)\n",
    "\n",
    "    # Later, launch the model, use the saver to restore variables from disk, and\n",
    "    # do some work with the model.\n",
    "    with tf.Session() as sess:\n",
    "        # Restore variables from disk.\n",
    "        print('Restoring model from {}'.format(model_ckpt))\n",
    "        saver.restore(sess, model_ckpt)\n",
    "        print(\"Model restored.\")\n",
    "    \n",
    "        init = tf.group(tf.global_variables_initializer(), tf.local_variables_initializer())\n",
    "\n",
    "        sess.run(init) \n",
    "\n",
    "        predicts = sess.run([predictions, train_op, reduced_loss, auc], \\\n",
    "                            feed_dict={x: audios_test, y: tags_test})\n",
    "\n",
    "        # START TESTING EACH GROUP   \n",
    "        try:\n",
    "            t0_epoch = time.time()\n",
    "\n",
    "            # Feed songs to the network group by group\n",
    "            for count, g in enumerate(files_by_group) :\n",
    "\n",
    "                # Load audio and labels\n",
    "                tload0 = time.time()\n",
    "                audios, tags = load_audio_label_aux(labels, test_files[0], len(data_dir), \\\n",
    "                                                    labels_name=LABELS_NAME, nb_labels=NB_LABELS, \\\n",
    "                                                    file_type=file_type, batch_size=BATCH_SIZE, nb_batch=BATCH_NB)\n",
    "\n",
    "                tload1 = time.time()\n",
    "                print(\">> Total loading time : {:.2f} sec\".format(tload1-tload0))\n",
    "\n",
    "                # Feed to network and get metrics\n",
    "                predict, _, loss_value, auc_score = sess.run([predictions, train_op, reduced_loss, auc],\\\n",
    "                                                             feed_dict={x: audios, y: tags})\n",
    "\n",
    "                auc_result, update_op = auc_score\n",
    "\n",
    "                # Save loss and auc values\n",
    "                test_loss_results.append(loss_value)\n",
    "                test_auc_results.append(auc_result)\n",
    "\n",
    "                dur = time.time()-t0_epoch\n",
    "\n",
    "                print(\"Group {} done. {} left.\".format(count, n_groups-count-1))\n",
    "                print(\"Time (in sec): {:.2f}, Loss: {:.4f}, AUC : {:.4f}\"\\\n",
    "                  .format(dur, loss_value, auc_result))\n",
    "                \n",
    "                print()\n",
    "\n",
    "\n",
    "        except KeyboardInterrupt:\n",
    "            # Introduce a line break after ^C is displayed so save message\n",
    "            # is on its own line.\n",
    "            print()\n",
    "\n",
    "        finally:            \n",
    "            duration2 = time.time()-t0_epoch\n",
    "            print(\"Total time: {:.2f} minutes.\".format(duration2/60))\n",
    "\n",
    "    return test_loss_results, test_auc_results"
   ]
  },
  {
   "cell_type": "code",
   "execution_count": 67,
   "metadata": {},
   "outputs": [],
   "source": [
    "def testing(config, directories, labels, model_ckpt) : \n",
    "    \n",
    "    # EXTRACT CONFIG VARIABLES\n",
    "    #data_dir = directories['data_dir']\n",
    "    logdir_root = directories['logdir']\n",
    "    \n",
    "    group_size = config['te_group_size']\n",
    "    sample_size = config['te_sample_size']\n",
    "    file_type = config['file_type']\n",
    "    test_dir = config['test_dir']\n",
    "    labels_name = config['labels_name']\n",
    "    nb_labels = config['nb_labels']\n",
    "    batch_size = config['batch_size']\n",
    "    nb_batch = config['nb_batch'] \n",
    "    learning_rate = config['learning_rate']\n",
    "            \n",
    "    # LOSS AND AUC RESULTS\n",
    "    test_loss_results = []\n",
    "    test_auc_results = []\n",
    "\n",
    "    # GET NAME OF FILES FOR SONGS TO LOAD\n",
    "    # use find_files_group_select which filters songs \n",
    "    # which have at least one of the labels and create groups\n",
    "    files_by_group = find_files_group_select(data_dir, labels, labels_name, group_size, sample=sample_size, \\\n",
    "                                             pattern=pattern, sub_dir=test_dir)\n",
    "    \n",
    "    n_groups = len(files_by_group)\n",
    "\n",
    "    # INITIALIZE TF MODEL (VARIABLES)\n",
    "    x, y, net, predictions, loss, reduced_loss, train_op, \\\n",
    "    auc, _ = initialize_tf_model(len(test_files[0]), nb_labels, nb_batch,\\\n",
    "                                               batch_size, learning_rate, is_training=False)\n",
    "    \n",
    "    variables_to_restore = { \n",
    "        var.name[:-2]: var for var in tf.global_variables() \n",
    "        if not ('state_buffer' in var.name or 'pointer' in var.name)}\n",
    "\n",
    "    # Add ops to save and restore all the variables.\n",
    "    saver = tf.train.Saver(variables_to_restore)\n",
    "\n",
    "    # Later, launch the model, use the saver to restore variables from disk, and\n",
    "    # do some work with the model.\n",
    "    with tf.Session() as sess:\n",
    "        # Restore variables from disk.\n",
    "        print('Restoring model from {}'.format(model_ckpt))\n",
    "        saver.restore(sess, model_ckpt)\n",
    "        print(\"Model restored.\")\n",
    "    \n",
    "        init = tf.group(tf.global_variables_initializer(), tf.local_variables_initializer())\n",
    "\n",
    "        sess.run(init) \n",
    "\n",
    "        predicts = sess.run([predictions, train_op, reduced_loss, auc], \\\n",
    "                            feed_dict={x: audios_test, y: tags_test})\n",
    "\n",
    "        # START TESTING EACH GROUP   \n",
    "        try:\n",
    "            t0_epoch = time.time()\n",
    "\n",
    "            # Feed songs to the network group by group\n",
    "            for count, g in enumerate(files_by_group) :\n",
    "\n",
    "                # Load audio and labels\n",
    "                tload0 = time.time()\n",
    "                audios, tags = load_audio_label_aux(labels, test_files[0], len(data_dir), \\\n",
    "                                                    labels_name=LABELS_NAME, nb_labels=NB_LABELS, \\\n",
    "                                                    file_type=file_type, batch_size=BATCH_SIZE, nb_batch=BATCH_NB)\n",
    "\n",
    "                tload1 = time.time()\n",
    "                print(\">> Total loading time : {:.2f} sec\".format(tload1-tload0))\n",
    "\n",
    "                # Feed to network and get metrics\n",
    "                predict, _, loss_value, auc_score = sess.run([predictions, train_op, reduced_loss, auc],\\\n",
    "                                                             feed_dict={x: audios, y: tags})\n",
    "\n",
    "                auc_result, update_op = auc_score\n",
    "\n",
    "                # Save loss and auc values\n",
    "                test_loss_results.append(loss_value)\n",
    "                test_auc_results.append(auc_result)\n",
    "\n",
    "                dur = time.time()-t0_epoch\n",
    "\n",
    "                print(\"Group {} done. {} left.\".format(count, n_groups-count-1))\n",
    "                print(\"Time (in sec): {:.2f}, Loss: {:.4f}, AUC : {:.4f}\"\\\n",
    "                  .format(dur, loss_value, auc_result))\n",
    "                \n",
    "                print()\n",
    "\n",
    "\n",
    "        except KeyboardInterrupt:\n",
    "            # Introduce a line break after ^C is displayed so save message\n",
    "            # is on its own line.\n",
    "            print()\n",
    "\n",
    "        finally:            \n",
    "            duration2 = time.time()-t0_epoch\n",
    "            print(\"Total time: {:.2f} minutes.\".format(duration2/60))\n",
    "\n",
    "    return test_loss_results, test_auc_results"
   ]
  },
  {
   "cell_type": "code",
   "execution_count": 65,
   "metadata": {},
   "outputs": [
    {
     "name": "stdout",
     "output_type": "stream",
     "text": [
      "All labels : 25863 songs >>> Selected for given labels : 4387. (test or train sets are note taken    into account here)\n",
      "Initialize tf model ...\n",
      "Restoring model from checkpoints/train/2019-06-02T17-55-50/model.ckpt-14\n",
      "INFO:tensorflow:Restoring parameters from checkpoints/train/2019-06-02T17-55-50/model.ckpt-14\n",
      "Model restored.\n",
      "['/mnt/scratch/students/jjgweber-MagnaTagATune/dataset/d/katherine_roberts_perl-j_s__bach_french_suites-07-suite_no_4_in_e_flat_major_bwv_815_gigue-0-29.mp3', '/mnt/scratch/students/jjgweber-MagnaTagATune/dataset/d/sarasa_ensemble_labelle_sylvan-bach_cantatas-10-ich_habe_genug_aria-320-349.mp3', '/mnt/scratch/students/jjgweber-MagnaTagATune/dataset/d/seismic_anamoly-afterburner-07-ten_million_tears-233-262.mp3', '/mnt/scratch/students/jjgweber-MagnaTagATune/dataset/d/seth_and_maryse_carlin-schubert__music_for_fortepiano_four_hands-03-sonata_in_c_major_grand_duo__scherzo__allegro_vivace-204-233.mp3', '/mnt/scratch/students/jjgweber-MagnaTagATune/dataset/d/shira_kammen-mistral-03-quand_jetais_jeune-0-29.mp3', '/mnt/scratch/students/jjgweber-MagnaTagATune/dataset/d/shiva_in_exile-ethnic-14-myingmar-465-494.mp3', '/mnt/scratch/students/jjgweber-MagnaTagATune/dataset/d/satori-golden_dreams-01-aurora-204-233.mp3', '/mnt/scratch/students/jjgweber-MagnaTagATune/dataset/d/katherine_roberts_perl-j_s__bach_french_suites-17-suite_no_3_in_b_minor_bwv_814_anglaise-0-29.mp3', '/mnt/scratch/students/jjgweber-MagnaTagATune/dataset/d/seth_and_maryse_carlin-schubert__music_for_fortepiano_four_hands-14-laendler_no__4-30-59.mp3', '/mnt/scratch/students/jjgweber-MagnaTagATune/dataset/d/sarasa_ensemble_labelle_sylvan-bach_cantatas-03-weichet_nur_betrubte_schatten_aria-88-117.mp3']\n",
      ">> Total loading time : 4.26 sec\n",
      "Group 0 done. 2 left.\n",
      "Time (in sec): 4.46, Loss: 0.7008, AUC : 0.3371\n",
      "\n",
      "['/mnt/scratch/students/jjgweber-MagnaTagATune/dataset/d/katherine_roberts_perl-j_s__bach_french_suites-07-suite_no_4_in_e_flat_major_bwv_815_gigue-0-29.mp3', '/mnt/scratch/students/jjgweber-MagnaTagATune/dataset/d/sarasa_ensemble_labelle_sylvan-bach_cantatas-10-ich_habe_genug_aria-320-349.mp3', '/mnt/scratch/students/jjgweber-MagnaTagATune/dataset/d/seismic_anamoly-afterburner-07-ten_million_tears-233-262.mp3', '/mnt/scratch/students/jjgweber-MagnaTagATune/dataset/d/seth_and_maryse_carlin-schubert__music_for_fortepiano_four_hands-03-sonata_in_c_major_grand_duo__scherzo__allegro_vivace-204-233.mp3', '/mnt/scratch/students/jjgweber-MagnaTagATune/dataset/d/shira_kammen-mistral-03-quand_jetais_jeune-0-29.mp3', '/mnt/scratch/students/jjgweber-MagnaTagATune/dataset/d/shiva_in_exile-ethnic-14-myingmar-465-494.mp3', '/mnt/scratch/students/jjgweber-MagnaTagATune/dataset/d/satori-golden_dreams-01-aurora-204-233.mp3', '/mnt/scratch/students/jjgweber-MagnaTagATune/dataset/d/katherine_roberts_perl-j_s__bach_french_suites-17-suite_no_3_in_b_minor_bwv_814_anglaise-0-29.mp3', '/mnt/scratch/students/jjgweber-MagnaTagATune/dataset/d/seth_and_maryse_carlin-schubert__music_for_fortepiano_four_hands-14-laendler_no__4-30-59.mp3', '/mnt/scratch/students/jjgweber-MagnaTagATune/dataset/d/sarasa_ensemble_labelle_sylvan-bach_cantatas-03-weichet_nur_betrubte_schatten_aria-88-117.mp3']\n",
      ">> Total loading time : 4.48 sec\n",
      "Group 1 done. 1 left.\n",
      "Time (in sec): 9.14, Loss: 0.6941, AUC : 0.5511\n",
      "\n",
      "['/mnt/scratch/students/jjgweber-MagnaTagATune/dataset/d/katherine_roberts_perl-j_s__bach_french_suites-07-suite_no_4_in_e_flat_major_bwv_815_gigue-0-29.mp3', '/mnt/scratch/students/jjgweber-MagnaTagATune/dataset/d/sarasa_ensemble_labelle_sylvan-bach_cantatas-10-ich_habe_genug_aria-320-349.mp3', '/mnt/scratch/students/jjgweber-MagnaTagATune/dataset/d/seismic_anamoly-afterburner-07-ten_million_tears-233-262.mp3', '/mnt/scratch/students/jjgweber-MagnaTagATune/dataset/d/seth_and_maryse_carlin-schubert__music_for_fortepiano_four_hands-03-sonata_in_c_major_grand_duo__scherzo__allegro_vivace-204-233.mp3', '/mnt/scratch/students/jjgweber-MagnaTagATune/dataset/d/shira_kammen-mistral-03-quand_jetais_jeune-0-29.mp3', '/mnt/scratch/students/jjgweber-MagnaTagATune/dataset/d/shiva_in_exile-ethnic-14-myingmar-465-494.mp3', '/mnt/scratch/students/jjgweber-MagnaTagATune/dataset/d/satori-golden_dreams-01-aurora-204-233.mp3', '/mnt/scratch/students/jjgweber-MagnaTagATune/dataset/d/katherine_roberts_perl-j_s__bach_french_suites-17-suite_no_3_in_b_minor_bwv_814_anglaise-0-29.mp3', '/mnt/scratch/students/jjgweber-MagnaTagATune/dataset/d/seth_and_maryse_carlin-schubert__music_for_fortepiano_four_hands-14-laendler_no__4-30-59.mp3', '/mnt/scratch/students/jjgweber-MagnaTagATune/dataset/d/sarasa_ensemble_labelle_sylvan-bach_cantatas-03-weichet_nur_betrubte_schatten_aria-88-117.mp3']\n",
      ">> Total loading time : 4.29 sec\n",
      "Group 2 done. 0 left.\n",
      "Time (in sec): 13.64, Loss: 0.6936, AUC : 0.5569\n",
      "\n",
      "Total time: 0.23 minutes.\n"
     ]
    },
    {
     "data": {
      "text/plain": [
       "([0.70083, 0.694145, 0.6936209], [0.33710566, 0.55114025, 0.55694634])"
      ]
     },
     "execution_count": 65,
     "metadata": {},
     "output_type": "execute_result"
    }
   ],
   "source": [
    "testing(BASIC_CONFIG, DIRECTORIES, labels, 'checkpoints/train/2019-06-02T17-55-50/model.ckpt-14')"
   ]
  },
  {
   "cell_type": "markdown",
   "metadata": {},
   "source": [
    "Following TF tutorial for custom training\n",
    "https://github.com/tensorflow/docs/blob/master/site/en/tutorials/eager/custom_training_walkthrough.ipynb"
   ]
  },
  {
   "cell_type": "markdown",
   "metadata": {},
   "source": [
    "# OLD STUFF"
   ]
  },
  {
   "cell_type": "code",
   "execution_count": null,
   "metadata": {},
   "outputs": [],
   "source": [
    "data_dir, pattern, file_type = return_params_mp3_wav(\"mp3\", DATA_DIRECTORY, WAV_DIRECTORY)\n",
    "group_size, sample_size =10, 50\n",
    "train(data_dir, group_size, sample_size, file_type, TRAIN_DIR, EPOCHS, labels, LABELS_NAME, NB_LABELS, \\\n",
    "     BATCH_SIZE, BATCH_NB, LOGDIR, LEARNING_RATE)"
   ]
  },
  {
   "cell_type": "code",
   "execution_count": null,
   "metadata": {
    "scrolled": true
   },
   "outputs": [],
   "source": [
    "# VERSION 2 : feed group by group\n",
    "def train_v2(group_size=10, sample_size=50):\n",
    "\n",
    "    files_by_group = find_files_group(data_dir, group_size, sample=sample_size, pattern=pattern, sub_dir=TRAIN_DIR)\n",
    "    n_groups = len(files_by_group)\n",
    "\n",
    "    x, y, net, predictions, loss, reduced_loss,  train_op, auc, saver = initialize_tf_model()\n",
    "\n",
    "    print(\"Start training...\")\n",
    "\n",
    "    start = time.time()\n",
    "\n",
    "    with tf.Session() as sess:\n",
    "\n",
    "        init = tf.group(tf.global_variables_initializer(), tf.local_variables_initializer())\n",
    "\n",
    "        sess.run(init)\n",
    "\n",
    "        # Go through the whole DS at each EPOCH\n",
    "        for epoch in tqdm(range(EPOCHS)):\n",
    "\n",
    "            t0_epoch = time.time()\n",
    "\n",
    "            # Group by group\n",
    "            for count, g in enumerate(files_by_group) :\n",
    "\n",
    "                # Load audio and labels\n",
    "                tload0 = time.time()\n",
    "                audios, tags = load_audio_label_aux(labels, g, len(data_dir), labels_name=LABELS_NAME, \\\n",
    "                        nb_labels=NB_LABELS, file_type=file_type, batch_size=BATCH_SIZE, nb_batch=BATCH_NB)\n",
    "                tload1 = time.time()\n",
    "\n",
    "                if count==0 :\n",
    "                    print(\">> Total loading time : {:.2f} sec\".format(tload1-tload0))\n",
    "                #audio_tf = tf.convert_to_tensor(audios, np.float32)\n",
    "\n",
    "                # add check to verify if there is something to restore\n",
    "                #saver.restore(sess, LOGDIR)\n",
    "\n",
    "                predict, _, loss_value, auc_score = sess.run([predictions, train_op, reduced_loss, auc],\\\n",
    "                                                             feed_dict={x: audios, y: tags})\n",
    "                auc_result, update_op = auc_score\n",
    "\n",
    "                saver.save(sess, LOGDIR)\n",
    "\n",
    "\n",
    "                train_loss_results.append(loss_value)\n",
    "                train_auc_results.append(auc_result)\n",
    "\n",
    "                print(\"Group {} done. {} left.\".format(count, n_groups-count))\n",
    "\n",
    "\n",
    "            t1_epoch = time.time()\n",
    "\n",
    "            dur = t1_epoch-t0_epoch\n",
    "\n",
    "            print(\"Iter: {:3}, Time (in sec): {:.2f}, Loss: {:.4f}, AUC : {:.4f}\"\\\n",
    "                  .format(epoch, dur, loss_value, auc_result))\n",
    "            print()\n",
    "\n",
    "        end = time.time()\n",
    "        duration2 = end-start\n",
    "        print(\"Total time: {:.2f} sec.\".format(duration2))\n"
   ]
  },
  {
   "cell_type": "markdown",
   "metadata": {},
   "source": [
    "## Load and format mp3 data "
   ]
  },
  {
   "cell_type": "markdown",
   "metadata": {},
   "source": [
    "### Loading audio & tags"
   ]
  },
  {
   "cell_type": "code",
   "execution_count": null,
   "metadata": {},
   "outputs": [],
   "source": [
    "''' Use Example \n",
    " load audios and labels > convert to numpy\n",
    " CAREFUL : the argument num_songs is important and shouldn't be too big \n",
    " > otherwise MEMORY ISSUES !!!!!!\n",
    "\n",
    "audios, tags, order, order2 = load_audio_label(cleaned, num_songs=NB_SONGS, sub_dir=TRAIN_DIR, \\\n",
    "                                file_type=\"mp3\", directory=DATA_DIRECTORY, randomize_batch=True) '''\n",
    "\n",
    "def load_audio_label(labels, num_songs, sample_rate=None, directory=WAV_DIRECTORY, \\\n",
    "                     labels_name=LABELS_NAME, sub_dir=None, file_type=\"wav\", randomize_batch=False):\n",
    "    \n",
    "    assert (file_type==\"wav\" or file_type==\"mp3\"), \"The argument file_type should be either 'wav', either 'mp3'.\"\n",
    "    if (file_type==\"wav\" and directory!=WAV_DIRECTORY) or (file_type==\"mp3\" and directory!=DATA_DIRECTORY):\n",
    "        warnings.warn(\"File type and directory may not correspond. Make sure the \\\n",
    "        directory gave as parameter contains the right type of files\", FutureWarning, stacklevel=2)\n",
    "        \n",
    "    if num_songs > 20 :\n",
    "        warnings.warn(\"The argument num_song should not be too high (above 20), make sure this will \\\n",
    "        not cause memory error.\", FutureWarning, stacklevel=2)\n",
    "       \n",
    "    \n",
    "    print(\"Loading data ...\")\n",
    "    start = time.time()\n",
    "    \n",
    "    if file_type==\"mp3\" :\n",
    "        files = find_files(directory, sample=num_songs, sub_dir=sub_dir)\n",
    "    if file_type==\"wav\" :\n",
    "        files = find_files(directory, sample=num_songs, sub_dir=sub_dir, pattern='*.wav')\n",
    " \n",
    "    randomized_files = randomize_files(files)\n",
    "    \n",
    "    count = 0\n",
    "    \n",
    "    audios = np.ndarray(shape=(num_songs * BATCH_NB, BATCH_SIZE, 1), dtype=np.float32, order='F')\n",
    "    tags = np.ndarray(shape=(num_songs * BATCH_NB, NB_LABELS), dtype=np.float32, order='F')\n",
    "    order = np.zeros(num_songs * BATCH_NB, dtype=int)\n",
    "    order2 = np.zeros(num_songs * BATCH_NB, dtype=int)\n",
    "    \n",
    "    idx = 0\n",
    "    \n",
    "    for filename in randomized_files:\n",
    "\n",
    "        # Load audio (MP3/WAV) file        \n",
    "        try :\n",
    "            audio, _ = librosa.load(filename, sr=sample_rate, mono=True)\n",
    "        except EOFError :\n",
    "            print(\"EOFERROR : The following file could not be loaded with librosa - \", filename)\n",
    "\n",
    "        audio = audio.reshape(-1, 1)\n",
    "         \n",
    "        for n in range(BATCH_NB) :\n",
    "            audios[idx] = audio[n*BATCH_SIZE: (n+1)*BATCH_SIZE,:]\n",
    "            \n",
    "            # take labels or corresponding song\n",
    "            \n",
    "            if file_type==\"mp3\" :\n",
    "                select_labels  = labels.loc[labels['mp3_path']==filename[len(directory):]]\n",
    "            \n",
    "            if file_type==\"wav\" :\n",
    "                select_labels  = labels.loc[labels['mp3_path']==filename[len(directory):-4]+\".mp3\"]\n",
    "\n",
    "            # select wanted labels\n",
    "            select_labels = select_labels[labels_name]\n",
    "\n",
    "            tags[idx] = select_labels.values.reshape(NB_LABELS)\n",
    "            \n",
    "            order[idx] = count\n",
    "            order2[idx] = idx\n",
    "            idx +=1\n",
    "        \n",
    "        count +=1\n",
    "        if (count % 10) == 0:\n",
    "            print(count)\n",
    "    \n",
    "    if randomize_batch :\n",
    "        rng_state = np.random.get_state()\n",
    "        np.random.shuffle(audios)\n",
    "        np.random.set_state(rng_state)\n",
    "        np.random.shuffle(tags)\n",
    "        np.random.set_state(rng_state)\n",
    "        np.random.shuffle(order)\n",
    "        np.random.set_state(rng_state)\n",
    "        np.random.shuffle(order2)\n",
    "        \n",
    "    end = time.time()\n",
    "    duration = end-start\n",
    "    print(\">> Total loading time - {} songs : {:.2f} sec\".format(num_songs, duration))\n",
    "    print()\n",
    "    print(\"Shape of audios list :\", audios.shape)\n",
    "    print(\"Shape of tags list :\", tags.shape)\n",
    "    return audios, tags, order, order2"
   ]
  },
  {
   "cell_type": "code",
   "execution_count": null,
   "metadata": {},
   "outputs": [],
   "source": [
    "# This one is not correct yet I think\n",
    "def load_audio_label_prim(labels, num_songs, sample_rate=None, directory=WAV_DIRECTORY, \\\n",
    "                     labels_name=LABELS_NAME, sub_dir=None, file_type=\"wav\", randomize_batch=False):\n",
    "    \n",
    "    \n",
    "    assert (file_type==\"wav\" or file_type==\"mp3\"), \"The argument file_type should be either 'wav', either 'mp3'.\"\n",
    "    if (file_type==\"wav\" and directory!=WAV_DIRECTORY) or (file_type==\"mp3\" and directory!=DATA_DIRECTORY):\n",
    "        warnings.warn(\"File type and directory may not correspond. Make sure the \\\n",
    "        directory gave as parameter contains the right type of files\", FutureWarning, stacklevel=2)\n",
    "        \n",
    "    if num_songs > 20 :\n",
    "        warnings.warn(\"The argument num_song should not be too high (above 20), make sure this will \\\n",
    "        not cause memory error.\", FutureWarning, stacklevel=2)\n",
    "        \n",
    "    print(\"Loading data ...\")\n",
    "    start = time.time()\n",
    "    \n",
    "    if group_size != None:\n",
    "        if file_type==\"mp3\" :\n",
    "            files = find_files_group(directory, group_size, sample=num_songs, sub_dir=sub_dir, pattern='*.mp3')\n",
    "        if file_type==\"wav\" :\n",
    "            files = find_files_group(directory, group_size, sample=num_songs, sub_dir=sub_dir, pattern='*.wav')\n",
    "    \n",
    "    else :\n",
    "        if file_type==\"mp3\" :\n",
    "            files = find_files(directory, sample=num_songs, sub_dir=sub_dir, pattern='*.mp3')\n",
    "        if file_type==\"wav\" :\n",
    "            files = find_files(directory, sample=num_songs, sub_dir=sub_dir, pattern='*.wav')\n",
    "            \n",
    "    randomized_files = randomize_files(files)\n",
    "    \n",
    "    count = 0\n",
    "    \n",
    "    audios = np.ndarray(shape=(num_songs * BATCH_NB, BATCH_SIZE, 1), dtype=np.float32, order='F')\n",
    "    tags = np.ndarray(shape=(num_songs * BATCH_NB, NB_LABELS), dtype=np.float32, order='F')\n",
    "    order = np.zeros(num_songs * BATCH_NB, dtype=int)\n",
    "    order2 = np.zeros(num_songs * BATCH_NB, dtype=int)\n",
    "    \n",
    "\n",
    "    \n",
    "    if group_size != None :\n",
    "        for group in files :\n",
    "            load_audio_label_aux(cleaned, group, len(directory), labels_name=labels_name, file_type=file_type)\n",
    "    \n",
    "    # check where to put this after        \n",
    "    if randomize_batch :\n",
    "        rng_state = np.random.get_state()\n",
    "        np.random.shuffle(audios)\n",
    "        np.random.set_state(rng_state)\n",
    "        np.random.shuffle(tags)\n",
    "        np.random.set_state(rng_state)\n",
    "        np.random.shuffle(order)\n",
    "        np.random.set_state(rng_state)\n",
    "        np.random.shuffle(order2)\n",
    "        \n",
    "    end = time.time()\n",
    "    duration = end-start\n",
    "    print(\">> Total loading time - {} songs : {:.2f} sec\".format(num_songs, duration))\n",
    "    print()\n",
    "    print(\"Shape of audios list :\", audios.shape)\n",
    "    print(\"Shape of tags list :\", tags.shape)\n",
    "    return audios, tags, order, order2"
   ]
  },
  {
   "cell_type": "markdown",
   "metadata": {},
   "source": [
    "## Neural Network model"
   ]
  },
  {
   "cell_type": "markdown",
   "metadata": {},
   "source": [
    "### Save neural net state tool"
   ]
  },
  {
   "cell_type": "code",
   "execution_count": null,
   "metadata": {},
   "outputs": [],
   "source": [
    "# clean argument passing\n",
    "def merge_predictions(predictions, order, num_songs = NB_SONGS, threshold=0.5, majority=5):\n",
    "    print(\"ORD:\",order)\n",
    "    print(type(predictions[0]))\n",
    "    #tf.map_fn(tf.invert_permutation, (predictions, order))\n",
    "    ordered = tf.gather(predictions, indices=order, axis=0)\n",
    "    \n",
    "    new_predictions = np.zeros(num_songs * BATCH_NB, dtype= np.float32)\n",
    "    \n",
    "    count1 = 0\n",
    "    for b in range(BATCH_NB) :\n",
    "        if ordered[b] > threshold :\n",
    "            count1 +=1\n",
    "            \n",
    "    if count1 >= majority :\n",
    "        for b in range(BATCH_NB) :\n",
    "            new_predictions[b] = 1\n",
    "    \n",
    "    return tf.convert_to_tensor(new_predictions, np.float32)"
   ]
  },
  {
   "cell_type": "markdown",
   "metadata": {},
   "source": [
    "### Training"
   ]
  },
  {
   "cell_type": "code",
   "execution_count": null,
   "metadata": {},
   "outputs": [],
   "source": [
    "# run this cell everytime before relaunching tensorflow session\n",
    "tf.reset_default_graph()"
   ]
  },
  {
   "cell_type": "code",
   "execution_count": null,
   "metadata": {
    "scrolled": true
   },
   "outputs": [],
   "source": [
    "# VERSION 1 : DOESN'T HANDLE GROUPS - feeds all sample of given size to the network \n",
    "\n",
    "def train_v1() :\n",
    "    \n",
    "    # keep results for plotting\n",
    "    train_loss_results = []\n",
    "    train_auc_results = []\n",
    "\n",
    "    print(\"Initializing tf model ...\")\n",
    "\n",
    "    audio_tf= tf.convert_to_tensor(audios, np.float32)\n",
    "    print(\"Input shape : {}\".format(audio_tf.shape))\n",
    "    print(\"Labels : {}\".format(tags.flatten()))\n",
    "    print()\n",
    "\n",
    "    net = build_model(audio_tf, is_training=True, config=BASIC_CONFIG) \n",
    "    predictions = tf.layers.dense(net, NB_LABELS, activation=tf.sigmoid)\n",
    "    #predictions = merge_predictions(predictions, order2)\n",
    "    loss = tf.nn.sigmoid_cross_entropy_with_logits(labels = tags, logits = predictions)\n",
    "    reduced_loss = tf.reduce_mean(loss)\n",
    "    train_op = tf.train.AdamOptimizer(learning_rate=LEARNING_RATE).minimize(reduced_loss)\n",
    "    auc = tf.metrics.auc(labels = tags, predictions=predictions)\n",
    "\n",
    "\n",
    "    # Saver for storing checkpoints of the model. (Wavenets)\n",
    "    saver = tf.train.Saver(var_list=tf.global_variables())\n",
    "\n",
    "    print(\"Start training...\")\n",
    "\n",
    "    start = time.time()\n",
    "\n",
    "    with tf.Session() as sess:\n",
    "\n",
    "        init = tf.group(tf.global_variables_initializer(), tf.local_variables_initializer())\n",
    "\n",
    "        sess.run(init)\n",
    "\n",
    "        for epoch in tqdm(range(EPOCHS)):\n",
    "            t0_epoch = time.time()\n",
    "            predict, _, loss_value, auc_score = sess.run([predictions, train_op, reduced_loss, auc])\n",
    "            #print(type(predict))\n",
    "            auc_result, update_op = auc_score\n",
    "\n",
    "            train_loss_results.append(loss_value)\n",
    "            train_auc_results.append(auc_result)\n",
    "\n",
    "            t1_epoch = time.time()\n",
    "            dur = t1_epoch-t0_epoch\n",
    "            print(\"Iter: {:3}, Time (in sec): {:.2f}, Loss: {:.4f}, AUC : {:.4f}\".format(epoch,\\\n",
    "                                                                                        dur, \\\n",
    "                                                                                         loss_value, auc_result))\n",
    "            #print(\"Predictions : {}\".format(predict.flatten()))\n",
    "            #print()\n",
    "\n",
    "        # use wavenet function > see later (for now simplest way)\n",
    "        #save(saver, sess, LOGDIR, EPOCHS)\n",
    "        saver.save(sess, LOGDIR)\n",
    "\n",
    "    end = time.time()\n",
    "    duration2 = end-start\n",
    "    print(\"Total time: {:.2f} sec.\".format(duration2))\n",
    "    \n",
    "    return train_loss_results, train_auc_results"
   ]
  },
  {
   "cell_type": "code",
   "execution_count": null,
   "metadata": {},
   "outputs": [],
   "source": [
    "#import wave\n",
    "#files_by_group = find_files_group(WAV_DIRECTORY, GROUP_SIZE, pattern='*.wav', sub_dir=TRAIN_DIR)\n",
    "\n",
    "#for g in files_by_group:\n",
    "  #  for f in g :\n",
    "   #     print(f)\n",
    "    #    audio = wave.open(f, mode='rb')\n",
    "     #   print(audio.getparams())"
   ]
  },
  {
   "cell_type": "markdown",
   "metadata": {},
   "source": [
    "### Initialization"
   ]
  },
  {
   "cell_type": "code",
   "execution_count": null,
   "metadata": {},
   "outputs": [],
   "source": [
    "def experiment1():\n",
    "    GROUP_SIZE=10\n",
    "\n",
    "    files_by_group = find_files_group(WAV_DIRECTORY, GROUP_SIZE, pattern='*.wav', sub_dir=TRAIN_DIR)\n",
    "\n",
    "    print(\"Initialize tf model ...\")\n",
    "\n",
    "    x = tf.placeholder(tf.float32, shape=(len(files_by_group[0])*BATCH_NB, BATCH_SIZE, 1))\n",
    "    y = tf.placeholder(tf.float32, shape=(len(files_by_group[0])*BATCH_NB, NB_LABELS))\n",
    "\n",
    "    net = build_model(x, is_training=True, config=BASIC_CONFIG) \n",
    "    predictions = tf.layers.dense(net, NB_LABELS, activation=tf.sigmoid)\n",
    "    loss = tf.nn.sigmoid_cross_entropy_with_logits(labels = y, logits = predictions)\n",
    "    reduced_loss = tf.reduce_mean(loss)\n",
    "    train_op = tf.train.AdamOptimizer(learning_rate=LEARNING_RATE).minimize(reduced_loss)\n",
    "    auc = tf.metrics.auc(labels = y, predictions=predictions)\n",
    "\n",
    "    # Saver for storing checkpoints of the model. (Wavenets)\n",
    "    saver = tf.train.Saver(var_list=tf.global_variables())\n",
    "\n",
    "    print(\"Start training...\")\n",
    "\n",
    "    start = time.time()\n",
    "\n",
    "    with tf.Session() as sess:\n",
    "\n",
    "        init = tf.group(tf.global_variables_initializer(), tf.local_variables_initializer())\n",
    "\n",
    "        sess.run(init)\n",
    "\n",
    "        # Go through the whole DS at each EPOCH\n",
    "        for epoch in tqdm(range(EPOCHS)):\n",
    "\n",
    "            t0_epoch = time.time()\n",
    "\n",
    "            # Group by group\n",
    "            for g in files_by_group :\n",
    "\n",
    "                # Load audio and labels\n",
    "                audios, tags = load_audio_label_aux(cleaned, g, len(WAV_DIRECTORY), labels_name=LABELS_NAME, \\\n",
    "                        nb_labels=NB_LABELS, file_type=\"wav\", batch_size=BATCH_SIZE, nb_batch=BATCH_NB)\n",
    "\n",
    "                #audio_tf = tf.convert_to_tensor(audios, np.float32)\n",
    "\n",
    "                # add check to verify if there is something to restore\n",
    "                #saver.restore(sess, LOGDIR)\n",
    "\n",
    "                predict, _, loss_value, auc_score = sess.run([predictions, train_op, reduced_loss, auc],\\\n",
    "                                                             feed_dict={x: audios, y: tags})\n",
    "                auc_result, update_op = auc_score\n",
    "\n",
    "                saver.save(sess, LOGDIR)\n",
    "\n",
    "\n",
    "                train_loss_results.append(loss_value)\n",
    "                train_auc_results.append(auc_result)\n",
    "\n",
    "                print(\"Group done.\")\n",
    "\n",
    "\n",
    "            t1_epoch = time.time()\n",
    "\n",
    "            dur = t1_epoch-t0_epoch\n",
    "\n",
    "            print(\"Iter: {:3}, Time (in sec): {:.2f}, Loss: {:.4f}, AUC : {:.4f}\"\\\n",
    "                  .format(epoch, dur, loss_value, auc_result))\n",
    "\n",
    "\n",
    "\n",
    "        end = time.time()\n",
    "        duration2 = end-start\n",
    "        print(\"Total time: {:.2f} sec.\".format(duration2))\n"
   ]
  },
  {
   "cell_type": "markdown",
   "metadata": {},
   "source": [
    "## Test set"
   ]
  },
  {
   "cell_type": "code",
   "execution_count": null,
   "metadata": {},
   "outputs": [],
   "source": [
    "tf.reset_default_graph()"
   ]
  },
  {
   "cell_type": "code",
   "execution_count": null,
   "metadata": {},
   "outputs": [],
   "source": [
    "TEST_SIZE = 10\n",
    "\n",
    "audios_test, tags_test, order_test, order_test2 = load_audio_label(cleaned, num_songs=TEST_SIZE, sub_dir=TEST_DIR)\n",
    "\n",
    "audios_test_tf = tf.convert_to_tensor(audios_test, np.float32)"
   ]
  },
  {
   "cell_type": "code",
   "execution_count": null,
   "metadata": {},
   "outputs": [],
   "source": [
    "net = build_model(audio_tf, is_training=False, config=BASIC_CONFIG) \n",
    "predictions = tf.layers.dense(net, NB_LABELS, activation=tf.sigmoid)\n",
    "#predictions = merge_predictions(predictions, order2)\n",
    "loss = tf.nn.sigmoid_cross_entropy_with_logits(labels = tags, logits = predictions)\n",
    "reduced_loss = tf.reduce_mean(loss)\n",
    "train_op = tf.train.AdamOptimizer(learning_rate=LEARNING_RATE).minimize(reduced_loss)\n",
    "auc = tf.metrics.auc(labels = tags, predictions=predictions)"
   ]
  },
  {
   "cell_type": "code",
   "execution_count": null,
   "metadata": {},
   "outputs": [],
   "source": [
    "variables_to_restore = {\n",
    "    var.name[:-2]: var for var in tf.global_variables()\n",
    "    if not ('state_buffer' in var.name or 'pointer' in var.name)}\n",
    "\n",
    "# Add ops to save and restore all the variables.\n",
    "saver = tf.train.Saver(variables_to_restore)\n",
    "\n",
    "# Later, launch the model, use the saver to restore variables from disk, and\n",
    "# do some work with the model.\n",
    "with tf.Session() as sess:\n",
    "      # Restore variables from disk.\n",
    "    saver.restore(sess, LOGDIR)\n",
    "    print(\"Model restored.\")\n",
    "    \n",
    "    init = tf.group(tf.global_variables_initializer(), tf.local_variables_initializer())\n",
    "\n",
    "    sess.run(init) \n",
    "\n",
    "    predicts = sess.run([audios_test_tf, predictions, train_op, reduced_loss, auc])"
   ]
  },
  {
   "cell_type": "code",
   "execution_count": null,
   "metadata": {},
   "outputs": [],
   "source": [
    "# Print some results \n",
    "print(\"AUC Score :\", predicts[4])"
   ]
  },
  {
   "cell_type": "code",
   "execution_count": null,
   "metadata": {},
   "outputs": [],
   "source": [
    "print(\"PREDICTIONS :\", predicts[1])\n",
    "print(\"TRUE :\", tags_test)"
   ]
  },
  {
   "cell_type": "markdown",
   "metadata": {},
   "source": [
    "Following TF tutorial for custom training\n",
    "https://github.com/tensorflow/docs/blob/master/site/en/tutorials/eager/custom_training_walkthrough.ipynb"
   ]
  },
  {
   "cell_type": "code",
   "execution_count": null,
   "metadata": {},
   "outputs": [],
   "source": []
  }
 ],
 "metadata": {
  "kernelspec": {
   "display_name": "Python 3",
   "language": "python",
   "name": "python3"
  },
  "language_info": {
   "codemirror_mode": {
    "name": "ipython",
    "version": 3
   },
   "file_extension": ".py",
   "mimetype": "text/x-python",
   "name": "python",
   "nbconvert_exporter": "python",
   "pygments_lexer": "ipython3",
   "version": "3.5.2"
  }
 },
 "nbformat": 4,
 "nbformat_minor": 2
}
